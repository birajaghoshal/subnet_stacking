{
 "cells": [
  {
   "cell_type": "code",
   "execution_count": 2,
   "metadata": {
    "collapsed": false
   },
   "outputs": [
    {
     "name": "stdout",
     "output_type": "stream",
     "text": [
      "The ipycache extension is already loaded. To reload it, use:\n",
      "  %reload_ext ipycache\n"
     ]
    }
   ],
   "source": [
    "# This line configures matplotlib to show figures embedded in the notebook, \n",
    "# instead of opening a new window for each figure. More about that later. \n",
    "# If you are using an old version of IPython, try using '%pylab inline' instead.\n",
    "%matplotlib inline\n",
    "%load_ext ipycache\n",
    "%precision 4\n",
    "from ipy_table import make_table, apply_theme\n",
    "import matplotlib.pyplot as plt\n",
    "import seaborn as sb\n",
    "import numpy as np\n",
    "import scipy as sp\n",
    "import pandas as pd\n",
    "import networkx as nx\n",
    "import networkxgmml\n",
    "import tqdm\n",
    "\n",
    "from sklearn import linear_model\n",
    "\n",
    "sb.set_context('poster')\n",
    "sb.set_style('white')\n",
    "sb.set_color_codes()\n",
    "\n",
    "seeds_file = \"c_all.txt\"\n",
    "with open(seeds_file) as sf:\n",
    "    genes = [line.strip() for line in sf.readlines()]"
   ]
  },
  {
   "cell_type": "code",
   "execution_count": 3,
   "metadata": {
    "collapsed": true
   },
   "outputs": [],
   "source": [
    "import networkx as nx\n",
    "net_file = \"HINT_adjlist.txt\"\n",
    "G1 = nx.read_adjlist(net_file)\n",
    "G1.remove_edges_from(G1.selfloop_edges())\n",
    "## Find largest connected component\n",
    "CC=sorted(nx.connected_components(G1), key = len, reverse=True)[0]\n",
    "G1=G1.subgraph(CC)"
   ]
  },
  {
   "cell_type": "code",
   "execution_count": 4,
   "metadata": {
    "collapsed": false
   },
   "outputs": [
    {
     "name": "stdout",
     "output_type": "stream",
     "text": [
      "querying 1-1000...done.\n",
      "querying 1001-2000...done.\n",
      "querying 2001-3000...done.\n",
      "querying 3001-4000...done.\n",
      "querying 4001-5000...done.\n",
      "querying 5001-6000...done.\n",
      "querying 6001-7000...done.\n",
      "querying 7001-8000...done.\n",
      "querying 8001-9000...done.\n",
      "querying 9001-10000...done.\n",
      "querying 10001-10662...done.\n",
      "Finished.\n",
      "29 input query terms found no hit:\n",
      "\t[u'378465', u'9503', u'6775098', u'90462', u'100271840', u'244', u'221016', u'102723367', u'439935',\n",
      "Pass \"returnall=True\" to return complete lists of duplicate or missing query terms.\n"
     ]
    }
   ],
   "source": [
    "import mygene\n",
    "import itertools\n",
    "mg = mygene.MyGeneInfo()\n",
    "mygene_hits1 = mg.querymany([i for i in set(itertools.chain(genes, G1.nodes()))],\n",
    "                           scopes=\"entrezgene\", fields=\"symbol,alias\")\n",
    "from collections import defaultdict\n",
    "symbols1 = defaultdict(list)\n",
    "symbol_to_ez1 = {}\n",
    "for h in mygene_hits1:\n",
    "    ez = h['query']\n",
    "    if h.get('notfound', False):\n",
    "        symbols1[ ez ].append(ez)\n",
    "        continue\n",
    "    symbols1[ ez ].append(h.get('symbol', ez).upper())\n",
    "    for a in h.get('alias', []):\n",
    "        symbols1[ ez ].append(a.upper())\n",
    "    for s in symbols1[ ez]:\n",
    "        symbol_to_ez1[s] = ez"
   ]
  },
  {
   "cell_type": "code",
   "execution_count": 5,
   "metadata": {
    "collapsed": true
   },
   "outputs": [],
   "source": [
    "def ppr(g, beta, nodelist=None):\n",
    "    W = nx.to_numpy_matrix(g, nodelist=nodelist, dtype=np.float64 )\n",
    "    W = np.asarray(W)\n",
    "    W = W / W.sum(axis=1) # normalization step\n",
    "    from scipy.linalg import inv\n",
    "    n = len(g.nodes())\n",
    "    PPR = beta*inv(sp.eye(n)-(1.-beta)*W)\n",
    "    return PPR"
   ]
  },
  {
   "cell_type": "code",
   "execution_count": 7,
   "metadata": {
    "collapsed": true
   },
   "outputs": [],
   "source": [
    "beta = 0.4\n",
    "G1_index2ezgene = dict((i,n) for i,n in enumerate(G1.nodes()))\n",
    "G1_ezgene2index = dict((n,i) for i,n in G1_index2ezgene.items())\n",
    "G1_gene_names = [symbols1[ez][0] for ez in G1.nodes()]\n",
    "G1_index2gene = dict((i,symbols1[ez][0]) for i,ez in G1_index2ezgene.items())\n",
    "G1_gene2index = dict((n,i) for i,n in G1_index2gene.items())\n",
    "M1 = ppr(G1, beta)"
   ]
  },
  {
   "cell_type": "code",
   "execution_count": 8,
   "metadata": {
    "collapsed": true
   },
   "outputs": [],
   "source": [
    "def get_seeds_with_neighbors1(dataset):\n",
    "    return {g: dict((G1_index2ezgene[i], n)\n",
    "                                 for i, n in enumerate(M1[:,G1_ezgene2index[g]].tolist())\n",
    "                                if G1_index2ezgene[i] in dataset.columns\n",
    "                               )\n",
    "                            for g in genes if g in dataset.columns and g in G1_ezgene2index}"
   ]
  },
  {
   "cell_type": "code",
   "execution_count": 11,
   "metadata": {
    "collapsed": true
   },
   "outputs": [],
   "source": [
    "gse45965 = pd.read_csv(\"gse45965.csv\", index_col=\"sample\")"
   ]
  },
  {
   "cell_type": "code",
   "execution_count": 26,
   "metadata": {
    "collapsed": true
   },
   "outputs": [],
   "source": [
    "gse45965_ctc_vs_bc = gse45965[(gse45965.group == 'CTC') | (gse45965.group == 'tissue: breast cancer tumor')]\n",
    "gse45965_ctc_vs_pb = gse45965[(gse45965.group == 'CTC') | (gse45965.group == 'tissue: normal peripheral blood')]\n",
    "gse45965_pb_vs_bc = gse45965[(gse45965.group == 'tissue: breast cancer tumor') | (gse45965.group == 'tissue: normal peripheral blood')]\n",
    "gse45965_ctc_vs_bc_group = np.where(gse45965_ctc_vs_bc.group == 'CTC', 1, 0)\n",
    "gse45965_ctc_vs_pb_group = np.where(gse45965_ctc_vs_pb.group == 'CTC', 1, 0)\n",
    "gse45965_pb_vs_bc_group = np.where(gse45965_pb_vs_bc.group == 'tissue: breast cancer tumor', 1, 0)"
   ]
  },
  {
   "cell_type": "code",
   "execution_count": 37,
   "metadata": {
    "collapsed": true
   },
   "outputs": [],
   "source": [
    "%run subnet_stacking.py\n",
    "from sklearn.pipeline import Pipeline\n",
    "from sklearn import svm\n",
    "from sklearn import linear_model\n",
    "from sklearn import tree\n",
    "from sklearn import neighbors\n",
    "from sklearn.neighbors.nearest_centroid import NearestCentroid\n",
    "from sklearn.ensemble import RandomForestClassifier\n",
    "\n",
    "\n",
    "g27_clf = Pipeline([('subset_g27', GeneSubsetTransformer(features=[g for g in genes if g in gse45965.columns])),\n",
    "                   ('logreg', linear_model.LogisticRegression())])\n",
    "\n",
    "all_clfs = [linear_model.LogisticRegression(), \n",
    "            neighbors.KNeighborsClassifier(n_neighbors=5), \n",
    "            RandomForestClassifier(),\n",
    "            svm.SVC(kernel=\"rbf\", C=1),\n",
    "            svm.SVC(kernel=\"linear\", C=1),\n",
    "            g27_clf,\n",
    "            SubnetStackingClassifier(seeds_with_neighbors=get_seeds_with_neighbors1(gse45965.drop(\"group\",1)))\n",
    "           ]"
   ]
  },
  {
   "cell_type": "markdown",
   "metadata": {},
   "source": [
    "#### CTC versus Breast Cancer"
   ]
  },
  {
   "cell_type": "code",
   "execution_count": 38,
   "metadata": {
    "collapsed": false
   },
   "outputs": [
    {
     "name": "stderr",
     "output_type": "stream",
     "text": [
      "[Parallel(n_jobs=20)]: Done   1 tasks      | elapsed:   32.4s\n",
      "[Parallel(n_jobs=20)]: Done   2 tasks      | elapsed:   38.3s\n",
      "[Parallel(n_jobs=20)]: Done   3 tasks      | elapsed:   43.7s\n",
      "[Parallel(n_jobs=20)]: Done   4 tasks      | elapsed:   50.3s\n",
      "[Parallel(n_jobs=20)]: Done   5 tasks      | elapsed:   55.7s\n",
      "[Parallel(n_jobs=20)]: Done   6 tasks      | elapsed:  1.0min\n",
      "[Parallel(n_jobs=20)]: Done   7 tasks      | elapsed:  1.1min\n",
      "[Parallel(n_jobs=20)]: Done   8 tasks      | elapsed:  1.2min\n",
      "[Parallel(n_jobs=20)]: Done   9 tasks      | elapsed:  1.3min\n",
      "[Parallel(n_jobs=20)]: Done  10 tasks      | elapsed:  1.4min\n",
      "[Parallel(n_jobs=20)]: Done  11 tasks      | elapsed:  1.5min\n",
      "[Parallel(n_jobs=20)]: Done  12 tasks      | elapsed:  1.6min\n",
      "[Parallel(n_jobs=20)]: Done  13 tasks      | elapsed:  1.7min\n",
      "[Parallel(n_jobs=20)]: Done  14 tasks      | elapsed:  1.8min\n",
      "[Parallel(n_jobs=20)]: Done  15 tasks      | elapsed:  1.9min\n",
      "[Parallel(n_jobs=20)]: Done  16 tasks      | elapsed:  2.0min\n",
      "[Parallel(n_jobs=20)]: Done  17 tasks      | elapsed:  2.2min\n",
      "[Parallel(n_jobs=20)]: Done  18 tasks      | elapsed:  2.2min\n",
      "[Parallel(n_jobs=20)]: Done  19 tasks      | elapsed:  2.4min\n",
      "[Parallel(n_jobs=20)]: Done  20 tasks      | elapsed:  2.5min\n",
      "[Parallel(n_jobs=20)]: Done  21 tasks      | elapsed:  2.6min\n",
      "[Parallel(n_jobs=20)]: Done  22 tasks      | elapsed:  2.7min\n",
      "[Parallel(n_jobs=20)]: Done  23 tasks      | elapsed:  2.8min\n",
      "[Parallel(n_jobs=20)]: Done  24 tasks      | elapsed:  2.9min\n",
      "[Parallel(n_jobs=20)]: Done  25 tasks      | elapsed:  3.0min\n",
      "[Parallel(n_jobs=20)]: Done  26 tasks      | elapsed:  3.1min\n",
      "[Parallel(n_jobs=20)]: Done  27 tasks      | elapsed:  3.2min\n",
      "[Parallel(n_jobs=20)]: Done  28 tasks      | elapsed:  3.3min\n",
      "[Parallel(n_jobs=20)]: Done  29 tasks      | elapsed:  3.4min\n",
      "[Parallel(n_jobs=20)]: Done  30 tasks      | elapsed:  3.5min\n",
      "[Parallel(n_jobs=20)]: Done  31 tasks      | elapsed:  3.6min\n",
      "[Parallel(n_jobs=20)]: Done  32 tasks      | elapsed:  3.7min\n",
      "[Parallel(n_jobs=20)]: Done  33 tasks      | elapsed:  3.8min\n",
      "[Parallel(n_jobs=20)]: Done  34 tasks      | elapsed:  3.9min\n",
      "[Parallel(n_jobs=20)]: Done  35 tasks      | elapsed:  4.0min\n",
      "[Parallel(n_jobs=20)]: Done  36 tasks      | elapsed:  4.1min\n",
      "[Parallel(n_jobs=20)]: Done  37 tasks      | elapsed:  4.2min\n",
      "[Parallel(n_jobs=20)]: Done  38 tasks      | elapsed:  4.3min\n",
      "[Parallel(n_jobs=20)]: Done  39 tasks      | elapsed:  4.4min\n",
      "[Parallel(n_jobs=20)]: Done  40 tasks      | elapsed:  4.6min\n",
      "[Parallel(n_jobs=20)]: Done  41 tasks      | elapsed:  4.7min\n",
      "[Parallel(n_jobs=20)]: Done  42 tasks      | elapsed:  4.8min\n",
      "[Parallel(n_jobs=20)]: Done  43 tasks      | elapsed:  4.9min\n",
      "[Parallel(n_jobs=20)]: Done  44 tasks      | elapsed:  5.0min\n",
      "[Parallel(n_jobs=20)]: Done  45 tasks      | elapsed:  5.1min\n",
      "[Parallel(n_jobs=20)]: Done  46 tasks      | elapsed:  5.2min\n",
      "[Parallel(n_jobs=20)]: Done  47 tasks      | elapsed:  5.3min\n",
      "[Parallel(n_jobs=20)]: Done  48 tasks      | elapsed:  5.4min\n",
      "[Parallel(n_jobs=20)]: Done  49 tasks      | elapsed:  5.5min\n",
      "[Parallel(n_jobs=20)]: Done  50 tasks      | elapsed:  5.6min\n",
      "[Parallel(n_jobs=20)]: Done  51 tasks      | elapsed:  5.7min\n",
      "[Parallel(n_jobs=20)]: Done  52 tasks      | elapsed:  5.8min\n",
      "[Parallel(n_jobs=20)]: Done  53 tasks      | elapsed:  5.9min\n",
      "[Parallel(n_jobs=20)]: Done  54 tasks      | elapsed:  6.0min\n",
      "[Parallel(n_jobs=20)]: Done  55 tasks      | elapsed:  6.1min\n",
      "[Parallel(n_jobs=20)]: Done  56 tasks      | elapsed:  6.2min\n",
      "[Parallel(n_jobs=20)]: Done  57 tasks      | elapsed:  6.3min\n",
      "[Parallel(n_jobs=20)]: Done  58 tasks      | elapsed:  6.4min\n",
      "[Parallel(n_jobs=20)]: Done  59 tasks      | elapsed:  6.5min\n",
      "[Parallel(n_jobs=20)]: Done  60 tasks      | elapsed:  6.6min\n",
      "[Parallel(n_jobs=20)]: Done  61 tasks      | elapsed:  6.7min\n",
      "[Parallel(n_jobs=20)]: Done 100 out of 100 | elapsed: 10.7min finished\n"
     ]
    }
   ],
   "source": [
    "#%run subnet_stacking.py\n",
    "#from sklearn.pipeline import Pipeline\n",
    "#g27_clf = Pipeline([('subset_g27', GeneSubsetTransformer(features=[g for g in genes if g in gse45965.columns])),\n",
    "#                   ('logreg', linear_model.LogisticRegression())])\n",
    "#clfs = [linear_model.LogisticRegression(), g27_clf, \n",
    "#        SubnetStackingClassifier(seeds_with_neighbors=get_seeds_with_neighbors1(gse45965_ctc_vs_pb.drop(\"group\",1)))]\n",
    "scores_ctc_vs_pb, fitted_clfs_ctc_vs_pb = score_clfs_in_df_parallel(all_clfs, \n",
    "                                                                    gse45965_ctc_vs_pb.drop(\"group\",1), \n",
    "                                                                    gse45965_ctc_vs_pb_group,\n",
    "                                                                    n_iter = 100, n_jobs=20)"
   ]
  },
  {
   "cell_type": "code",
   "execution_count": 40,
   "metadata": {
    "collapsed": false
   },
   "outputs": [
    {
     "data": {
      "text/plain": [
       "array([ 0.99  ,  0.95  ,  0.83  ,  0.98  ,  0.99  ,  0.9325,  0.955 ])"
      ]
     },
     "execution_count": 40,
     "metadata": {},
     "output_type": "execute_result"
    }
   ],
   "source": [
    "np.mean(np.stack(s[\"roc_auc\"] for s in scores_ctc_vs_pb), axis=0)"
   ]
  },
  {
   "cell_type": "markdown",
   "metadata": {},
   "source": [
    "#### CTC versus peripheral blood"
   ]
  },
  {
   "cell_type": "code",
   "execution_count": 39,
   "metadata": {
    "collapsed": false
   },
   "outputs": [
    {
     "name": "stderr",
     "output_type": "stream",
     "text": [
      "[Parallel(n_jobs=10)]: Done   1 tasks      | elapsed:   33.0s\n",
      "[Parallel(n_jobs=10)]: Done   2 tasks      | elapsed:   38.8s\n",
      "[Parallel(n_jobs=10)]: Done   3 tasks      | elapsed:   44.2s\n",
      "[Parallel(n_jobs=10)]: Done   4 tasks      | elapsed:   50.4s\n",
      "[Parallel(n_jobs=10)]: Done   5 tasks      | elapsed:   56.9s\n",
      "[Parallel(n_jobs=10)]: Done   6 tasks      | elapsed:  1.0min\n",
      "[Parallel(n_jobs=10)]: Done   7 tasks      | elapsed:  1.2min\n",
      "[Parallel(n_jobs=10)]: Done   8 tasks      | elapsed:  1.3min\n",
      "[Parallel(n_jobs=10)]: Done   9 tasks      | elapsed:  1.4min\n",
      "[Parallel(n_jobs=10)]: Done  10 tasks      | elapsed:  1.5min\n",
      "[Parallel(n_jobs=10)]: Done  11 tasks      | elapsed:  1.6min\n",
      "[Parallel(n_jobs=10)]: Done  12 tasks      | elapsed:  1.7min\n",
      "[Parallel(n_jobs=10)]: Done  13 tasks      | elapsed:  1.8min\n",
      "[Parallel(n_jobs=10)]: Done  14 tasks      | elapsed:  1.9min\n",
      "[Parallel(n_jobs=10)]: Done  15 tasks      | elapsed:  2.0min\n",
      "[Parallel(n_jobs=10)]: Done  16 tasks      | elapsed:  2.1min\n",
      "[Parallel(n_jobs=10)]: Done  17 tasks      | elapsed:  2.2min\n",
      "[Parallel(n_jobs=10)]: Done  18 tasks      | elapsed:  2.3min\n",
      "[Parallel(n_jobs=10)]: Done  19 tasks      | elapsed:  2.4min\n",
      "[Parallel(n_jobs=10)]: Done  20 tasks      | elapsed:  2.5min\n",
      "[Parallel(n_jobs=10)]: Done  21 tasks      | elapsed:  2.6min\n",
      "[Parallel(n_jobs=10)]: Done  22 tasks      | elapsed:  2.7min\n",
      "[Parallel(n_jobs=10)]: Done  23 tasks      | elapsed:  2.8min\n",
      "[Parallel(n_jobs=10)]: Done  24 tasks      | elapsed:  2.9min\n",
      "[Parallel(n_jobs=10)]: Done  25 tasks      | elapsed:  3.0min\n",
      "[Parallel(n_jobs=10)]: Done  26 tasks      | elapsed:  3.1min\n",
      "[Parallel(n_jobs=10)]: Done  27 tasks      | elapsed:  3.2min\n",
      "[Parallel(n_jobs=10)]: Done  28 tasks      | elapsed:  3.3min\n",
      "[Parallel(n_jobs=10)]: Done  29 tasks      | elapsed:  3.4min\n",
      "[Parallel(n_jobs=10)]: Done  30 tasks      | elapsed:  3.5min\n",
      "[Parallel(n_jobs=10)]: Done  31 tasks      | elapsed:  3.6min\n",
      "[Parallel(n_jobs=10)]: Done  32 tasks      | elapsed:  3.7min\n",
      "[Parallel(n_jobs=10)]: Done  33 tasks      | elapsed:  3.8min\n",
      "[Parallel(n_jobs=10)]: Done  34 tasks      | elapsed:  3.9min\n",
      "[Parallel(n_jobs=10)]: Done  35 tasks      | elapsed:  4.0min\n",
      "[Parallel(n_jobs=10)]: Done  36 tasks      | elapsed:  4.1min\n",
      "[Parallel(n_jobs=10)]: Done  37 tasks      | elapsed:  4.2min\n",
      "[Parallel(n_jobs=10)]: Done  38 tasks      | elapsed:  4.3min\n",
      "[Parallel(n_jobs=10)]: Done  39 tasks      | elapsed:  4.4min\n",
      "[Parallel(n_jobs=10)]: Done  40 tasks      | elapsed:  4.6min\n",
      "[Parallel(n_jobs=10)]: Done  41 tasks      | elapsed:  4.7min\n",
      "[Parallel(n_jobs=10)]: Done  42 tasks      | elapsed:  4.8min\n",
      "[Parallel(n_jobs=10)]: Done  43 tasks      | elapsed:  4.9min\n",
      "[Parallel(n_jobs=10)]: Done  44 tasks      | elapsed:  5.0min\n",
      "[Parallel(n_jobs=10)]: Done  45 tasks      | elapsed:  5.1min\n",
      "[Parallel(n_jobs=10)]: Done  46 tasks      | elapsed:  5.2min\n",
      "[Parallel(n_jobs=10)]: Done  47 tasks      | elapsed:  5.3min\n",
      "[Parallel(n_jobs=10)]: Done  48 tasks      | elapsed:  5.4min\n",
      "[Parallel(n_jobs=10)]: Done  49 tasks      | elapsed:  5.5min\n",
      "[Parallel(n_jobs=10)]: Done  50 tasks      | elapsed:  5.6min\n",
      "[Parallel(n_jobs=10)]: Done  51 tasks      | elapsed:  5.7min\n",
      "[Parallel(n_jobs=10)]: Done  52 tasks      | elapsed:  5.8min\n",
      "[Parallel(n_jobs=10)]: Done  53 tasks      | elapsed:  5.9min\n",
      "[Parallel(n_jobs=10)]: Done  54 tasks      | elapsed:  6.0min\n",
      "[Parallel(n_jobs=10)]: Done  55 tasks      | elapsed:  6.1min\n",
      "[Parallel(n_jobs=10)]: Done  56 tasks      | elapsed:  6.2min\n",
      "[Parallel(n_jobs=10)]: Done  57 tasks      | elapsed:  6.3min\n",
      "[Parallel(n_jobs=10)]: Done  58 tasks      | elapsed:  6.4min\n",
      "[Parallel(n_jobs=10)]: Done  59 tasks      | elapsed:  6.5min\n",
      "[Parallel(n_jobs=10)]: Done  60 tasks      | elapsed:  6.6min\n",
      "[Parallel(n_jobs=10)]: Done  61 tasks      | elapsed:  6.7min\n",
      "[Parallel(n_jobs=10)]: Done  62 tasks      | elapsed:  6.8min\n",
      "[Parallel(n_jobs=10)]: Done  63 tasks      | elapsed:  6.9min\n",
      "[Parallel(n_jobs=10)]: Done  64 tasks      | elapsed:  7.1min\n",
      "[Parallel(n_jobs=10)]: Done  65 tasks      | elapsed:  7.1min\n",
      "[Parallel(n_jobs=10)]: Done  66 tasks      | elapsed:  7.3min\n",
      "[Parallel(n_jobs=10)]: Done  67 tasks      | elapsed:  7.3min\n",
      "[Parallel(n_jobs=10)]: Done  68 tasks      | elapsed:  7.4min\n",
      "[Parallel(n_jobs=10)]: Done  69 tasks      | elapsed:  7.6min\n",
      "[Parallel(n_jobs=10)]: Done  70 tasks      | elapsed:  7.7min\n",
      "[Parallel(n_jobs=10)]: Done  71 tasks      | elapsed:  7.8min\n",
      "[Parallel(n_jobs=10)]: Done  72 tasks      | elapsed:  7.9min\n",
      "[Parallel(n_jobs=10)]: Done  73 tasks      | elapsed:  8.0min\n",
      "[Parallel(n_jobs=10)]: Done  74 tasks      | elapsed:  8.1min\n",
      "[Parallel(n_jobs=10)]: Done  75 tasks      | elapsed:  8.2min\n",
      "[Parallel(n_jobs=10)]: Done  76 tasks      | elapsed:  8.3min\n",
      "[Parallel(n_jobs=10)]: Done  77 tasks      | elapsed:  8.4min\n",
      "[Parallel(n_jobs=10)]: Done  78 tasks      | elapsed:  8.5min\n",
      "[Parallel(n_jobs=10)]: Done  79 tasks      | elapsed:  8.6min\n",
      "[Parallel(n_jobs=10)]: Done  80 tasks      | elapsed:  8.7min\n",
      "[Parallel(n_jobs=10)]: Done  81 tasks      | elapsed:  8.8min\n",
      "[Parallel(n_jobs=10)]: Done 100 out of 100 | elapsed: 10.7min finished\n"
     ]
    }
   ],
   "source": [
    "scores_ctc_vs_pb, fitted_clfs_ctc_vs_pb = score_clfs_in_df_parallel(all_clfs,\n",
    "                                                         gse45965_ctc_vs_pb.drop(\"group\",1), \n",
    "                                                        gse45965_ctc_vs_pb_group,\n",
    "                                                        n_iter = 100, n_jobs=10)"
   ]
  },
  {
   "cell_type": "code",
   "execution_count": 77,
   "metadata": {
    "collapsed": false
   },
   "outputs": [
    {
     "data": {
      "text/html": [
       "<div>\n",
       "<table border=\"1\" class=\"dataframe\">\n",
       "  <thead>\n",
       "    <tr style=\"text-align: right;\">\n",
       "      <th></th>\n",
       "      <th>Classifier</th>\n",
       "      <th>F1</th>\n",
       "      <th>Matthews corr. coef.</th>\n",
       "      <th>Precision</th>\n",
       "      <th>ROC AUC</th>\n",
       "      <th>Recall</th>\n",
       "    </tr>\n",
       "  </thead>\n",
       "  <tbody>\n",
       "    <tr>\n",
       "      <th>0</th>\n",
       "      <td>LogisticRegression</td>\n",
       "      <td>0.992000</td>\n",
       "      <td>0.983094</td>\n",
       "      <td>0.986667</td>\n",
       "      <td>0.9900</td>\n",
       "      <td>1.000</td>\n",
       "    </tr>\n",
       "    <tr>\n",
       "      <th>1</th>\n",
       "      <td>KNeighborsClassifier</td>\n",
       "      <td>0.936000</td>\n",
       "      <td>0.915470</td>\n",
       "      <td>0.993333</td>\n",
       "      <td>0.9500</td>\n",
       "      <td>0.910</td>\n",
       "    </tr>\n",
       "    <tr>\n",
       "      <th>2</th>\n",
       "      <td>RandomForestClassifier</td>\n",
       "      <td>0.744333</td>\n",
       "      <td>0.684752</td>\n",
       "      <td>0.795000</td>\n",
       "      <td>0.8300</td>\n",
       "      <td>0.735</td>\n",
       "    </tr>\n",
       "    <tr>\n",
       "      <th>3</th>\n",
       "      <td>SVC</td>\n",
       "      <td>0.982667</td>\n",
       "      <td>0.966188</td>\n",
       "      <td>0.976667</td>\n",
       "      <td>0.9800</td>\n",
       "      <td>0.995</td>\n",
       "    </tr>\n",
       "    <tr>\n",
       "      <th>4</th>\n",
       "      <td>SVC</td>\n",
       "      <td>0.992000</td>\n",
       "      <td>0.983094</td>\n",
       "      <td>0.986667</td>\n",
       "      <td>0.9900</td>\n",
       "      <td>1.000</td>\n",
       "    </tr>\n",
       "    <tr>\n",
       "      <th>5</th>\n",
       "      <td>Pipeline</td>\n",
       "      <td>0.910000</td>\n",
       "      <td>0.885885</td>\n",
       "      <td>1.000000</td>\n",
       "      <td>0.9325</td>\n",
       "      <td>0.865</td>\n",
       "    </tr>\n",
       "    <tr>\n",
       "      <th>6</th>\n",
       "      <td>SubnetStackingClassifier</td>\n",
       "      <td>0.954667</td>\n",
       "      <td>0.923923</td>\n",
       "      <td>0.963333</td>\n",
       "      <td>0.9550</td>\n",
       "      <td>0.965</td>\n",
       "    </tr>\n",
       "  </tbody>\n",
       "</table>\n",
       "</div>"
      ],
      "text/plain": [
       "                 Classifier        F1  Matthews corr. coef.  Precision  \\\n",
       "0        LogisticRegression  0.992000              0.983094   0.986667   \n",
       "1      KNeighborsClassifier  0.936000              0.915470   0.993333   \n",
       "2    RandomForestClassifier  0.744333              0.684752   0.795000   \n",
       "3                       SVC  0.982667              0.966188   0.976667   \n",
       "4                       SVC  0.992000              0.983094   0.986667   \n",
       "5                  Pipeline  0.910000              0.885885   1.000000   \n",
       "6  SubnetStackingClassifier  0.954667              0.923923   0.963333   \n",
       "\n",
       "   ROC AUC  Recall  \n",
       "0   0.9900   1.000  \n",
       "1   0.9500   0.910  \n",
       "2   0.8300   0.735  \n",
       "3   0.9800   0.995  \n",
       "4   0.9900   1.000  \n",
       "5   0.9325   0.865  \n",
       "6   0.9550   0.965  "
      ]
     },
     "execution_count": 77,
     "metadata": {},
     "output_type": "execute_result"
    }
   ],
   "source": [
    "pd.DataFrame({\"Classifier\": [str_clf(c) for c in all_clfs],\n",
    "              \"ROC AUC\": np.mean(np.stack(s[\"roc_auc\"] for s in scores_ctc_vs_pb), axis=0),\n",
    "              \"F1\": np.mean(np.stack(s[\"f1\"] for s in scores_ctc_vs_pb), axis=0),\n",
    "              \"Precision\": np.mean(np.stack(s[\"precision\"] for s in scores_ctc_vs_pb), axis=0),\n",
    "              \"Recall\": np.mean(np.stack(s[\"recall\"] for s in scores_ctc_vs_pb), axis=0),\n",
    "              \"Matthews corr. coef.\": np.mean(np.stack(s[\"matthews_corrcoef\"] for s in scores_ctc_vs_pb), axis=0)})"
   ]
  },
  {
   "cell_type": "markdown",
   "metadata": {},
   "source": [
    "#### Peripheral Blood versus Breast Cancer"
   ]
  },
  {
   "cell_type": "code",
   "execution_count": 42,
   "metadata": {
    "collapsed": false
   },
   "outputs": [],
   "source": [
    "scores_pb_vs_bc, fitted_clfs_pb_vs_bc = score_clfs_in_df_parallel(all_clfs,\n",
    "                                                         gse45965_pb_vs_bc.drop(\"group\",1), \n",
    "                                                        gse45965_pb_vs_bc_group,\n",
    "                                                        n_iter = 100, n_jobs=10, verbose=False)"
   ]
  },
  {
   "cell_type": "code",
   "execution_count": 78,
   "metadata": {
    "collapsed": false
   },
   "outputs": [
    {
     "data": {
      "text/html": [
       "<div>\n",
       "<table border=\"1\" class=\"dataframe\">\n",
       "  <thead>\n",
       "    <tr style=\"text-align: right;\">\n",
       "      <th></th>\n",
       "      <th>Classifier</th>\n",
       "      <th>F1</th>\n",
       "      <th>Matthews corr. coef.</th>\n",
       "      <th>Precision</th>\n",
       "      <th>ROC AUC</th>\n",
       "      <th>Recall</th>\n",
       "    </tr>\n",
       "  </thead>\n",
       "  <tbody>\n",
       "    <tr>\n",
       "      <th>0</th>\n",
       "      <td>LogisticRegression</td>\n",
       "      <td>0.998688</td>\n",
       "      <td>0.992426</td>\n",
       "      <td>1.000000</td>\n",
       "      <td>0.998750</td>\n",
       "      <td>0.997500</td>\n",
       "    </tr>\n",
       "    <tr>\n",
       "      <th>1</th>\n",
       "      <td>KNeighborsClassifier</td>\n",
       "      <td>0.992121</td>\n",
       "      <td>0.918359</td>\n",
       "      <td>0.984706</td>\n",
       "      <td>0.935000</td>\n",
       "      <td>1.000000</td>\n",
       "    </tr>\n",
       "    <tr>\n",
       "      <th>2</th>\n",
       "      <td>RandomForestClassifier</td>\n",
       "      <td>0.989639</td>\n",
       "      <td>0.895985</td>\n",
       "      <td>0.981728</td>\n",
       "      <td>0.921562</td>\n",
       "      <td>0.998125</td>\n",
       "    </tr>\n",
       "    <tr>\n",
       "      <th>3</th>\n",
       "      <td>SVC</td>\n",
       "      <td>0.994242</td>\n",
       "      <td>0.940339</td>\n",
       "      <td>0.988824</td>\n",
       "      <td>0.952500</td>\n",
       "      <td>1.000000</td>\n",
       "    </tr>\n",
       "    <tr>\n",
       "      <th>4</th>\n",
       "      <td>SVC</td>\n",
       "      <td>0.999697</td>\n",
       "      <td>0.996860</td>\n",
       "      <td>0.999412</td>\n",
       "      <td>0.997500</td>\n",
       "      <td>1.000000</td>\n",
       "    </tr>\n",
       "    <tr>\n",
       "      <th>5</th>\n",
       "      <td>Pipeline</td>\n",
       "      <td>0.992033</td>\n",
       "      <td>0.951810</td>\n",
       "      <td>0.996434</td>\n",
       "      <td>0.979375</td>\n",
       "      <td>0.988750</td>\n",
       "    </tr>\n",
       "    <tr>\n",
       "      <th>6</th>\n",
       "      <td>SubnetStackingClassifier</td>\n",
       "      <td>0.989722</td>\n",
       "      <td>0.923239</td>\n",
       "      <td>0.990515</td>\n",
       "      <td>0.955000</td>\n",
       "      <td>0.990000</td>\n",
       "    </tr>\n",
       "  </tbody>\n",
       "</table>\n",
       "</div>"
      ],
      "text/plain": [
       "                 Classifier        F1  Matthews corr. coef.  Precision  \\\n",
       "0        LogisticRegression  0.998688              0.992426   1.000000   \n",
       "1      KNeighborsClassifier  0.992121              0.918359   0.984706   \n",
       "2    RandomForestClassifier  0.989639              0.895985   0.981728   \n",
       "3                       SVC  0.994242              0.940339   0.988824   \n",
       "4                       SVC  0.999697              0.996860   0.999412   \n",
       "5                  Pipeline  0.992033              0.951810   0.996434   \n",
       "6  SubnetStackingClassifier  0.989722              0.923239   0.990515   \n",
       "\n",
       "    ROC AUC    Recall  \n",
       "0  0.998750  0.997500  \n",
       "1  0.935000  1.000000  \n",
       "2  0.921562  0.998125  \n",
       "3  0.952500  1.000000  \n",
       "4  0.997500  1.000000  \n",
       "5  0.979375  0.988750  \n",
       "6  0.955000  0.990000  "
      ]
     },
     "execution_count": 78,
     "metadata": {},
     "output_type": "execute_result"
    }
   ],
   "source": [
    "pd.DataFrame({\"Classifier\": [str_clf(c) for c in all_clfs],\n",
    "              \"ROC AUC\": np.mean(np.stack(s[\"roc_auc\"] for s in scores_pb_vs_bc), axis=0),\n",
    "              \"F1\": np.mean(np.stack(s[\"f1\"] for s in scores_pb_vs_bc), axis=0),\n",
    "              \"Precision\": np.mean(np.stack(s[\"precision\"] for s in scores_pb_vs_bc), axis=0),\n",
    "              \"Recall\": np.mean(np.stack(s[\"recall\"] for s in scores_pb_vs_bc), axis=0),\n",
    "              \"Matthews corr. coef.\": np.mean(np.stack(s[\"matthews_corrcoef\"] for s in scores_pb_vs_bc), axis=0)})"
   ]
  },
  {
   "cell_type": "markdown",
   "metadata": {},
   "source": [
    "Let's see what are the accumulated feature importances computed by the plain Random Forest classifier. (This classifier is in the 3rd position (i.e. in 2) in our lists of classifiers). The following computes the set of genes that have non-zero feature importance in any of the 100 splits of the PB vs BC comparison:"
   ]
  },
  {
   "cell_type": "code",
   "execution_count": 368,
   "metadata": {
    "collapsed": false
   },
   "outputs": [
    {
     "data": {
      "text/plain": [
       "455"
      ]
     },
     "execution_count": 368,
     "metadata": {},
     "output_type": "execute_result"
    }
   ],
   "source": [
    "rf_fimp_pb_vs_bc = set([x for i in range(100) for x in (fitted_clfs_pb_vs_bc[i][2].feature_importances_ > 0.0).nonzero()[0]])\n",
    "len(rf_fimp_pb_vs_bc)"
   ]
  },
  {
   "cell_type": "markdown",
   "metadata": {},
   "source": [
    "The same for the CTC vs PB comparison:"
   ]
  },
  {
   "cell_type": "code",
   "execution_count": 373,
   "metadata": {
    "collapsed": false
   },
   "outputs": [
    {
     "data": {
      "text/plain": [
       "306"
      ]
     },
     "execution_count": 373,
     "metadata": {},
     "output_type": "execute_result"
    }
   ],
   "source": [
    "rf_fimp_ctc_vs_pb = set([x for i in range(100) for x in (fitted_clfs_ctc_vs_pb[i][2].feature_importances_ > 0.0).nonzero()[0]])\n",
    "len(rf_fimp_ctc_vs_pb)"
   ]
  },
  {
   "cell_type": "markdown",
   "metadata": {},
   "source": [
    "OK, so let's keep only the most important genes and then run the same evaluation again for the different classifiers:"
   ]
  },
  {
   "cell_type": "code",
   "execution_count": 370,
   "metadata": {
    "collapsed": false
   },
   "outputs": [
    {
     "name": "stderr",
     "output_type": "stream",
     "text": [
      "[Parallel(n_jobs=10)]: Done   1 tasks      | elapsed:    0.1s\n",
      "[Parallel(n_jobs=10)]: Batch computation too fast (0.1239s.) Setting batch_size=2.\n",
      "[Parallel(n_jobs=10)]: Done   2 tasks      | elapsed:    0.1s\n",
      "[Parallel(n_jobs=10)]: Done   3 tasks      | elapsed:    0.2s\n",
      "[Parallel(n_jobs=10)]: Done   4 tasks      | elapsed:    0.2s\n",
      "[Parallel(n_jobs=10)]: Done   5 tasks      | elapsed:    0.2s\n",
      "[Parallel(n_jobs=10)]: Done   6 tasks      | elapsed:    0.2s\n",
      "[Parallel(n_jobs=10)]: Done   7 tasks      | elapsed:    0.2s\n",
      "[Parallel(n_jobs=10)]: Done   8 tasks      | elapsed:    0.2s\n",
      "[Parallel(n_jobs=10)]: Done   9 tasks      | elapsed:    0.3s\n",
      "[Parallel(n_jobs=10)]: Done  10 tasks      | elapsed:    0.3s\n",
      "[Parallel(n_jobs=10)]: Done  11 tasks      | elapsed:    0.3s\n",
      "[Parallel(n_jobs=10)]: Done  12 tasks      | elapsed:    0.3s\n",
      "[Parallel(n_jobs=10)]: Done  13 tasks      | elapsed:    0.3s\n",
      "[Parallel(n_jobs=10)]: Done  14 tasks      | elapsed:    0.4s\n",
      "[Parallel(n_jobs=10)]: Done  15 tasks      | elapsed:    0.4s\n",
      "[Parallel(n_jobs=10)]: Done  16 tasks      | elapsed:    0.4s\n",
      "[Parallel(n_jobs=10)]: Done  17 tasks      | elapsed:    0.4s\n",
      "[Parallel(n_jobs=10)]: Done  18 tasks      | elapsed:    0.4s\n",
      "[Parallel(n_jobs=10)]: Done  19 tasks      | elapsed:    0.5s\n",
      "[Parallel(n_jobs=10)]: Done  20 tasks      | elapsed:    0.5s\n",
      "[Parallel(n_jobs=10)]: Done  22 tasks      | elapsed:    0.5s\n",
      "[Parallel(n_jobs=10)]: Done  24 tasks      | elapsed:    0.5s\n",
      "[Parallel(n_jobs=10)]: Done  26 tasks      | elapsed:    0.6s\n",
      "[Parallel(n_jobs=10)]: Done  28 tasks      | elapsed:    0.6s\n",
      "[Parallel(n_jobs=10)]: Done  30 tasks      | elapsed:    0.7s\n",
      "[Parallel(n_jobs=10)]: Done  32 tasks      | elapsed:    0.7s\n",
      "[Parallel(n_jobs=10)]: Done  34 tasks      | elapsed:    0.7s\n",
      "[Parallel(n_jobs=10)]: Done  36 tasks      | elapsed:    0.7s\n",
      "[Parallel(n_jobs=10)]: Done  38 tasks      | elapsed:    0.8s\n",
      "[Parallel(n_jobs=10)]: Done  40 tasks      | elapsed:    0.8s\n",
      "[Parallel(n_jobs=10)]: Done  42 tasks      | elapsed:    0.8s\n",
      "[Parallel(n_jobs=10)]: Done  44 tasks      | elapsed:    0.8s\n",
      "[Parallel(n_jobs=10)]: Done  46 tasks      | elapsed:    0.9s\n",
      "[Parallel(n_jobs=10)]: Done  48 tasks      | elapsed:    0.9s\n",
      "[Parallel(n_jobs=10)]: Done  50 tasks      | elapsed:    0.9s\n",
      "[Parallel(n_jobs=10)]: Done  52 tasks      | elapsed:    0.9s\n",
      "[Parallel(n_jobs=10)]: Done  54 tasks      | elapsed:    1.0s\n",
      "[Parallel(n_jobs=10)]: Done  56 tasks      | elapsed:    1.0s\n",
      "[Parallel(n_jobs=10)]: Done  58 tasks      | elapsed:    1.0s\n",
      "[Parallel(n_jobs=10)]: Done  60 tasks      | elapsed:    1.0s\n",
      "[Parallel(n_jobs=10)]: Done  62 tasks      | elapsed:    1.0s\n",
      "[Parallel(n_jobs=10)]: Done 100 out of 100 | elapsed:    1.4s finished\n"
     ]
    }
   ],
   "source": [
    "all_clfs2 = [linear_model.LogisticRegression(), \n",
    "            neighbors.KNeighborsClassifier(n_neighbors=5), \n",
    "            RandomForestClassifier(),\n",
    "            svm.SVC(kernel=\"rbf\", C=1),\n",
    "            svm.SVC(kernel=\"linear\", C=1)]\n",
    "\n",
    "srf, _ = score_clfs_in_df_parallel(all_clfs2,\n",
    "                                   gse45965_pb_vs_bc.drop(\"group\",1).ix[:, rf_fimp_pb_vs_bc],\n",
    "                                   gse45965_pb_vs_bc_group,\n",
    "                                   n_iter = 100, n_jobs=10)"
   ]
  },
  {
   "cell_type": "code",
   "execution_count": 372,
   "metadata": {
    "collapsed": false
   },
   "outputs": [
    {
     "data": {
      "text/html": [
       "<div>\n",
       "<table border=\"1\" class=\"dataframe\">\n",
       "  <thead>\n",
       "    <tr style=\"text-align: right;\">\n",
       "      <th></th>\n",
       "      <th>Classifier</th>\n",
       "      <th>F1</th>\n",
       "      <th>Matthews corr. coef.</th>\n",
       "      <th>Precision</th>\n",
       "      <th>ROC AUC</th>\n",
       "      <th>Recall</th>\n",
       "    </tr>\n",
       "  </thead>\n",
       "  <tbody>\n",
       "    <tr>\n",
       "      <th>0</th>\n",
       "      <td>LogisticRegression</td>\n",
       "      <td>1.000000</td>\n",
       "      <td>1.000000</td>\n",
       "      <td>1.000000</td>\n",
       "      <td>1.000000</td>\n",
       "      <td>1.00000</td>\n",
       "    </tr>\n",
       "    <tr>\n",
       "      <th>1</th>\n",
       "      <td>KNeighborsClassifier</td>\n",
       "      <td>1.000000</td>\n",
       "      <td>1.000000</td>\n",
       "      <td>1.000000</td>\n",
       "      <td>1.000000</td>\n",
       "      <td>1.00000</td>\n",
       "    </tr>\n",
       "    <tr>\n",
       "      <th>2</th>\n",
       "      <td>RandomForestClassifier</td>\n",
       "      <td>0.990545</td>\n",
       "      <td>0.905553</td>\n",
       "      <td>0.982941</td>\n",
       "      <td>0.926875</td>\n",
       "      <td>0.99875</td>\n",
       "    </tr>\n",
       "    <tr>\n",
       "      <th>3</th>\n",
       "      <td>SVC</td>\n",
       "      <td>0.999394</td>\n",
       "      <td>0.993720</td>\n",
       "      <td>0.998824</td>\n",
       "      <td>0.995000</td>\n",
       "      <td>1.00000</td>\n",
       "    </tr>\n",
       "    <tr>\n",
       "      <th>4</th>\n",
       "      <td>SVC</td>\n",
       "      <td>1.000000</td>\n",
       "      <td>1.000000</td>\n",
       "      <td>1.000000</td>\n",
       "      <td>1.000000</td>\n",
       "      <td>1.00000</td>\n",
       "    </tr>\n",
       "  </tbody>\n",
       "</table>\n",
       "</div>"
      ],
      "text/plain": [
       "               Classifier        F1  Matthews corr. coef.  Precision  \\\n",
       "0      LogisticRegression  1.000000              1.000000   1.000000   \n",
       "1    KNeighborsClassifier  1.000000              1.000000   1.000000   \n",
       "2  RandomForestClassifier  0.990545              0.905553   0.982941   \n",
       "3                     SVC  0.999394              0.993720   0.998824   \n",
       "4                     SVC  1.000000              1.000000   1.000000   \n",
       "\n",
       "    ROC AUC   Recall  \n",
       "0  1.000000  1.00000  \n",
       "1  1.000000  1.00000  \n",
       "2  0.926875  0.99875  \n",
       "3  0.995000  1.00000  \n",
       "4  1.000000  1.00000  "
      ]
     },
     "execution_count": 372,
     "metadata": {},
     "output_type": "execute_result"
    }
   ],
   "source": [
    "pd.DataFrame({\"Classifier\": [str_clf(c) for c in all_clfs2],\n",
    "              \"ROC AUC\": np.mean(np.stack(s[\"roc_auc\"] for s in srf), axis=0),\n",
    "              \"F1\": np.mean(np.stack(s[\"f1\"] for s in srf), axis=0),\n",
    "              \"Precision\": np.mean(np.stack(s[\"precision\"] for s in srf), axis=0),\n",
    "              \"Recall\": np.mean(np.stack(s[\"recall\"] for s in srf), axis=0),\n",
    "              \"Matthews corr. coef.\": np.mean(np.stack(s[\"matthews_corrcoef\"] for s in srf), axis=0)})"
   ]
  },
  {
   "cell_type": "markdown",
   "metadata": {},
   "source": [
    "#### CTC vs PB"
   ]
  },
  {
   "cell_type": "code",
   "execution_count": 374,
   "metadata": {
    "collapsed": false
   },
   "outputs": [
    {
     "name": "stderr",
     "output_type": "stream",
     "text": [
      "[Parallel(n_jobs=10)]: Done   1 tasks      | elapsed:    0.1s\n",
      "[Parallel(n_jobs=10)]: Batch computation too fast (0.1294s.) Setting batch_size=2.\n",
      "[Parallel(n_jobs=10)]: Done   2 tasks      | elapsed:    0.2s\n",
      "[Parallel(n_jobs=10)]: Done   3 tasks      | elapsed:    0.2s\n",
      "[Parallel(n_jobs=10)]: Done   4 tasks      | elapsed:    0.2s\n",
      "[Parallel(n_jobs=10)]: Done   5 tasks      | elapsed:    0.2s\n",
      "[Parallel(n_jobs=10)]: Done   6 tasks      | elapsed:    0.2s\n",
      "[Parallel(n_jobs=10)]: Done   7 tasks      | elapsed:    0.3s\n",
      "[Parallel(n_jobs=10)]: Done   8 tasks      | elapsed:    0.3s\n",
      "[Parallel(n_jobs=10)]: Done   9 tasks      | elapsed:    0.3s\n",
      "[Parallel(n_jobs=10)]: Done  10 tasks      | elapsed:    0.3s\n",
      "[Parallel(n_jobs=10)]: Done  11 tasks      | elapsed:    0.4s\n",
      "[Parallel(n_jobs=10)]: Done  12 tasks      | elapsed:    0.4s\n",
      "[Parallel(n_jobs=10)]: Done  13 tasks      | elapsed:    0.4s\n",
      "[Parallel(n_jobs=10)]: Done  14 tasks      | elapsed:    0.4s\n",
      "[Parallel(n_jobs=10)]: Done  15 tasks      | elapsed:    0.4s\n",
      "[Parallel(n_jobs=10)]: Done  16 tasks      | elapsed:    0.5s\n",
      "[Parallel(n_jobs=10)]: Done  17 tasks      | elapsed:    0.5s\n",
      "[Parallel(n_jobs=10)]: Done  18 tasks      | elapsed:    0.5s\n",
      "[Parallel(n_jobs=10)]: Done  19 tasks      | elapsed:    0.5s\n",
      "[Parallel(n_jobs=10)]: Done  20 tasks      | elapsed:    0.5s\n",
      "[Parallel(n_jobs=10)]: Done  22 tasks      | elapsed:    0.6s\n",
      "[Parallel(n_jobs=10)]: Done  24 tasks      | elapsed:    0.6s\n",
      "[Parallel(n_jobs=10)]: Done  26 tasks      | elapsed:    0.7s\n",
      "[Parallel(n_jobs=10)]: Done  28 tasks      | elapsed:    0.7s\n",
      "[Parallel(n_jobs=10)]: Done  30 tasks      | elapsed:    0.7s\n",
      "[Parallel(n_jobs=10)]: Done  32 tasks      | elapsed:    0.7s\n",
      "[Parallel(n_jobs=10)]: Done  34 tasks      | elapsed:    0.7s\n",
      "[Parallel(n_jobs=10)]: Done  36 tasks      | elapsed:    0.8s\n",
      "[Parallel(n_jobs=10)]: Done  38 tasks      | elapsed:    0.8s\n",
      "[Parallel(n_jobs=10)]: Done  40 tasks      | elapsed:    0.8s\n",
      "[Parallel(n_jobs=10)]: Done  42 tasks      | elapsed:    0.9s\n",
      "[Parallel(n_jobs=10)]: Done  44 tasks      | elapsed:    0.9s\n",
      "[Parallel(n_jobs=10)]: Done  46 tasks      | elapsed:    0.9s\n",
      "[Parallel(n_jobs=10)]: Done  48 tasks      | elapsed:    0.9s\n",
      "[Parallel(n_jobs=10)]: Done  50 tasks      | elapsed:    0.9s\n",
      "[Parallel(n_jobs=10)]: Done  52 tasks      | elapsed:    1.0s\n",
      "[Parallel(n_jobs=10)]: Done  54 tasks      | elapsed:    1.0s\n",
      "[Parallel(n_jobs=10)]: Done  56 tasks      | elapsed:    1.0s\n",
      "[Parallel(n_jobs=10)]: Done  58 tasks      | elapsed:    1.0s\n",
      "[Parallel(n_jobs=10)]: Done  60 tasks      | elapsed:    1.1s\n",
      "[Parallel(n_jobs=10)]: Done  62 tasks      | elapsed:    1.1s\n",
      "[Parallel(n_jobs=10)]: Done 100 out of 100 | elapsed:    1.4s finished\n"
     ]
    }
   ],
   "source": [
    "srf, _ = score_clfs_in_df_parallel(all_clfs2,\n",
    "                                   gse45965_ctc_vs_pb.drop(\"group\",1).ix[:, rf_fimp_ctc_vs_pb],\n",
    "                                   gse45965_ctc_vs_pb_group,\n",
    "                                   n_iter = 100, n_jobs=10)"
   ]
  },
  {
   "cell_type": "code",
   "execution_count": 376,
   "metadata": {
    "collapsed": false
   },
   "outputs": [
    {
     "data": {
      "text/html": [
       "<div>\n",
       "<table border=\"1\" class=\"dataframe\">\n",
       "  <thead>\n",
       "    <tr style=\"text-align: right;\">\n",
       "      <th></th>\n",
       "      <th>Classifier</th>\n",
       "      <th>F1</th>\n",
       "      <th>Matthews corr. coef.</th>\n",
       "      <th>Precision</th>\n",
       "      <th>ROC AUC</th>\n",
       "      <th>Recall</th>\n",
       "    </tr>\n",
       "  </thead>\n",
       "  <tbody>\n",
       "    <tr>\n",
       "      <th>0</th>\n",
       "      <td>LogisticRegression</td>\n",
       "      <td>0.996000</td>\n",
       "      <td>0.991547</td>\n",
       "      <td>0.993333</td>\n",
       "      <td>0.995</td>\n",
       "      <td>1.000</td>\n",
       "    </tr>\n",
       "    <tr>\n",
       "      <th>1</th>\n",
       "      <td>KNeighborsClassifier</td>\n",
       "      <td>0.962667</td>\n",
       "      <td>0.949282</td>\n",
       "      <td>0.993333</td>\n",
       "      <td>0.970</td>\n",
       "      <td>0.950</td>\n",
       "    </tr>\n",
       "    <tr>\n",
       "      <th>2</th>\n",
       "      <td>RandomForestClassifier</td>\n",
       "      <td>0.832667</td>\n",
       "      <td>0.794752</td>\n",
       "      <td>0.906667</td>\n",
       "      <td>0.885</td>\n",
       "      <td>0.805</td>\n",
       "    </tr>\n",
       "    <tr>\n",
       "      <th>3</th>\n",
       "      <td>SVC</td>\n",
       "      <td>0.996000</td>\n",
       "      <td>0.991547</td>\n",
       "      <td>0.993333</td>\n",
       "      <td>0.995</td>\n",
       "      <td>1.000</td>\n",
       "    </tr>\n",
       "    <tr>\n",
       "      <th>4</th>\n",
       "      <td>SVC</td>\n",
       "      <td>0.996000</td>\n",
       "      <td>0.991547</td>\n",
       "      <td>0.993333</td>\n",
       "      <td>0.995</td>\n",
       "      <td>1.000</td>\n",
       "    </tr>\n",
       "  </tbody>\n",
       "</table>\n",
       "</div>"
      ],
      "text/plain": [
       "               Classifier        F1  Matthews corr. coef.  Precision  ROC AUC  \\\n",
       "0      LogisticRegression  0.996000              0.991547   0.993333    0.995   \n",
       "1    KNeighborsClassifier  0.962667              0.949282   0.993333    0.970   \n",
       "2  RandomForestClassifier  0.832667              0.794752   0.906667    0.885   \n",
       "3                     SVC  0.996000              0.991547   0.993333    0.995   \n",
       "4                     SVC  0.996000              0.991547   0.993333    0.995   \n",
       "\n",
       "   Recall  \n",
       "0   1.000  \n",
       "1   0.950  \n",
       "2   0.805  \n",
       "3   1.000  \n",
       "4   1.000  "
      ]
     },
     "execution_count": 376,
     "metadata": {},
     "output_type": "execute_result"
    }
   ],
   "source": [
    "pd.DataFrame({\"Classifier\": [str_clf(c) for c in all_clfs2],\n",
    "              \"ROC AUC\": np.mean(np.stack(s[\"roc_auc\"] for s in srf), axis=0),\n",
    "              \"F1\": np.mean(np.stack(s[\"f1\"] for s in srf), axis=0),\n",
    "              \"Precision\": np.mean(np.stack(s[\"precision\"] for s in srf), axis=0),\n",
    "              \"Recall\": np.mean(np.stack(s[\"recall\"] for s in srf), axis=0),\n",
    "              \"Matthews corr. coef.\": np.mean(np.stack(s[\"matthews_corrcoef\"] for s in srf), axis=0)})"
   ]
  },
  {
   "cell_type": "markdown",
   "metadata": {},
   "source": [
    "## Check subnetworks and their \"importance\""
   ]
  },
  {
   "cell_type": "markdown",
   "metadata": {},
   "source": [
    "We compute the \"feature importances\" for the SubnetStackingClassifier's 2nd level classifier (which is a Random Forest) for each of the 100 runs in both comparisons:"
   ]
  },
  {
   "cell_type": "code",
   "execution_count": 214,
   "metadata": {
    "collapsed": false
   },
   "outputs": [],
   "source": [
    "def compute_imp(fitted, scores, normalize_per_neighbors_nbr=False):\n",
    "    def d(clf):\n",
    "        c = clf.meta_clf_.feature_importances_ * score.roc_auc[-1]\n",
    "        if normalize_per_neighbors_nbr:\n",
    "            c /= [len(s.get_nearest_neighbors()) for s in clf.base_clfs_]\n",
    "        return c\n",
    "    return pd.DataFrame([d(clfs[-1]) for clfs, score in zip(fitted, scores)],\n",
    "                        columns=[symbols1[c.seed][0] for c in fitted[0][-1].base_clfs_])\n",
    "\n",
    "imp_ctc_vs_pb = compute_imp(fitted_clfs_ctc_vs_pb, scores_ctc_vs_pb)\n",
    "imp_pb_vs_bc = compute_imp(fitted_clfs_pb_vs_bc, scores_pb_vs_bc)"
   ]
  },
  {
   "cell_type": "code",
   "execution_count": 223,
   "metadata": {
    "collapsed": false
   },
   "outputs": [
    {
     "data": {
      "image/png": "[encoded data removed]",
      "text/plain": [
       "<matplotlib.figure.Figure at 0x7f27a16a7390>"
      ]
     },
     "metadata": {},
     "output_type": "display_data"
    }
   ],
   "source": [
    "sb.set_style(\"whitegrid\")\n",
    "sb.boxplot(data=imp_ctc_vs_pb, orient=\"h\", linewidth=2)\n",
    "plt.show()"
   ]
  },
  {
   "cell_type": "code",
   "execution_count": 224,
   "metadata": {
    "collapsed": false
   },
   "outputs": [
    {
     "data": {
      "image/png": "[encoded data removed]",
      "text/plain": [
       "<matplotlib.figure.Figure at 0x7f2783804fd0>"
      ]
     },
     "metadata": {},
     "output_type": "display_data"
    }
   ],
   "source": [
    "sb.boxplot(data=imp_pb_vs_bc, orient=\"h\", linewidth=2)\n",
    "plt.show()"
   ]
  },
  {
   "cell_type": "markdown",
   "metadata": {},
   "source": [
    "Each of the feature in the 2nd level classifier is a base classifier built around a \"seed\" gene. The following shows the mean feature importance for each base classifier in the CTC-vs-Peripheral Blood comparison:"
   ]
  },
  {
   "cell_type": "code",
   "execution_count": 225,
   "metadata": {
    "collapsed": false
   },
   "outputs": [
    {
     "data": {
      "text/html": [
       "<div>\n",
       "<table border=\"1\" class=\"dataframe\">\n",
       "  <thead>\n",
       "    <tr style=\"text-align: right;\">\n",
       "      <th></th>\n",
       "      <th>Median importance</th>\n",
       "      <th>Std</th>\n",
       "    </tr>\n",
       "  </thead>\n",
       "  <tbody>\n",
       "    <tr>\n",
       "      <th>NFYA</th>\n",
       "      <td>0.033362</td>\n",
       "      <td>0.020426</td>\n",
       "    </tr>\n",
       "    <tr>\n",
       "      <th>TMED10</th>\n",
       "      <td>0.040125</td>\n",
       "      <td>0.021431</td>\n",
       "    </tr>\n",
       "    <tr>\n",
       "      <th>GABPB1</th>\n",
       "      <td>0.057300</td>\n",
       "      <td>0.021238</td>\n",
       "    </tr>\n",
       "    <tr>\n",
       "      <th>MAFB</th>\n",
       "      <td>0.055263</td>\n",
       "      <td>0.019656</td>\n",
       "    </tr>\n",
       "    <tr>\n",
       "      <th>TMEM70</th>\n",
       "      <td>0.055112</td>\n",
       "      <td>0.019510</td>\n",
       "    </tr>\n",
       "    <tr>\n",
       "      <th>TYROBP</th>\n",
       "      <td>0.037762</td>\n",
       "      <td>0.019280</td>\n",
       "    </tr>\n",
       "    <tr>\n",
       "      <th>PRKAR1A</th>\n",
       "      <td>0.049975</td>\n",
       "      <td>0.017379</td>\n",
       "    </tr>\n",
       "    <tr>\n",
       "      <th>GLO1</th>\n",
       "      <td>0.040837</td>\n",
       "      <td>0.020929</td>\n",
       "    </tr>\n",
       "    <tr>\n",
       "      <th>KPNA4</th>\n",
       "      <td>0.049537</td>\n",
       "      <td>0.024241</td>\n",
       "    </tr>\n",
       "    <tr>\n",
       "      <th>HMGN2</th>\n",
       "      <td>0.030875</td>\n",
       "      <td>0.016278</td>\n",
       "    </tr>\n",
       "    <tr>\n",
       "      <th>DHX58</th>\n",
       "      <td>0.055038</td>\n",
       "      <td>0.024663</td>\n",
       "    </tr>\n",
       "    <tr>\n",
       "      <th>HNRNPU</th>\n",
       "      <td>0.059000</td>\n",
       "      <td>0.021499</td>\n",
       "    </tr>\n",
       "    <tr>\n",
       "      <th>CDKN2D</th>\n",
       "      <td>0.030125</td>\n",
       "      <td>0.017870</td>\n",
       "    </tr>\n",
       "    <tr>\n",
       "      <th>JUNB</th>\n",
       "      <td>0.066687</td>\n",
       "      <td>0.021372</td>\n",
       "    </tr>\n",
       "    <tr>\n",
       "      <th>WIPI1</th>\n",
       "      <td>0.072638</td>\n",
       "      <td>0.027854</td>\n",
       "    </tr>\n",
       "    <tr>\n",
       "      <th>YWHAB</th>\n",
       "      <td>0.062800</td>\n",
       "      <td>0.022828</td>\n",
       "    </tr>\n",
       "    <tr>\n",
       "      <th>BECN1</th>\n",
       "      <td>0.044750</td>\n",
       "      <td>0.021275</td>\n",
       "    </tr>\n",
       "    <tr>\n",
       "      <th>PRDX1</th>\n",
       "      <td>0.046138</td>\n",
       "      <td>0.019424</td>\n",
       "    </tr>\n",
       "    <tr>\n",
       "      <th>SNRPF</th>\n",
       "      <td>0.042000</td>\n",
       "      <td>0.022631</td>\n",
       "    </tr>\n",
       "  </tbody>\n",
       "</table>\n",
       "</div>"
      ],
      "text/plain": [
       "         Median importance       Std\n",
       "NFYA              0.033362  0.020426\n",
       "TMED10            0.040125  0.021431\n",
       "GABPB1            0.057300  0.021238\n",
       "MAFB              0.055263  0.019656\n",
       "TMEM70            0.055112  0.019510\n",
       "TYROBP            0.037762  0.019280\n",
       "PRKAR1A           0.049975  0.017379\n",
       "GLO1              0.040837  0.020929\n",
       "KPNA4             0.049537  0.024241\n",
       "HMGN2             0.030875  0.016278\n",
       "DHX58             0.055038  0.024663\n",
       "HNRNPU            0.059000  0.021499\n",
       "CDKN2D            0.030125  0.017870\n",
       "JUNB              0.066687  0.021372\n",
       "WIPI1             0.072638  0.027854\n",
       "YWHAB             0.062800  0.022828\n",
       "BECN1             0.044750  0.021275\n",
       "PRDX1             0.046138  0.019424\n",
       "SNRPF             0.042000  0.022631"
      ]
     },
     "execution_count": 225,
     "metadata": {},
     "output_type": "execute_result"
    }
   ],
   "source": [
    "pd.DataFrame({\"Median importance\": imp_ctc_vs_pb.mean(axis=0), \"Std\": imp_ctc_vs_pb.std(axis=0)}, index=imp_ctc_vs_pb.columns)"
   ]
  },
  {
   "cell_type": "markdown",
   "metadata": {},
   "source": [
    "And therefore the most important \"feature\" is the one with the largest mean importance:"
   ]
  },
  {
   "cell_type": "code",
   "execution_count": 226,
   "metadata": {
    "collapsed": false
   },
   "outputs": [
    {
     "data": {
      "text/plain": [
       "u'WIPI1'"
      ]
     },
     "execution_count": 226,
     "metadata": {},
     "output_type": "execute_result"
    }
   ],
   "source": [
    "imp_ctc_vs_pb.mean(axis=0).argmax()"
   ]
  },
  {
   "cell_type": "markdown",
   "metadata": {},
   "source": [
    "The following are the mean feature importances for the Perpheral Blood versus Breast Cancer:"
   ]
  },
  {
   "cell_type": "code",
   "execution_count": 227,
   "metadata": {
    "collapsed": false
   },
   "outputs": [
    {
     "data": {
      "text/html": [
       "<div>\n",
       "<table border=\"1\" class=\"dataframe\">\n",
       "  <thead>\n",
       "    <tr style=\"text-align: right;\">\n",
       "      <th></th>\n",
       "      <th>Mean importance</th>\n",
       "      <th>Std</th>\n",
       "    </tr>\n",
       "  </thead>\n",
       "  <tbody>\n",
       "    <tr>\n",
       "      <th>NFYA</th>\n",
       "      <td>0.033873</td>\n",
       "      <td>0.018404</td>\n",
       "    </tr>\n",
       "    <tr>\n",
       "      <th>TMED10</th>\n",
       "      <td>0.084089</td>\n",
       "      <td>0.039118</td>\n",
       "    </tr>\n",
       "    <tr>\n",
       "      <th>GABPB1</th>\n",
       "      <td>0.053005</td>\n",
       "      <td>0.033281</td>\n",
       "    </tr>\n",
       "    <tr>\n",
       "      <th>MAFB</th>\n",
       "      <td>0.023664</td>\n",
       "      <td>0.021316</td>\n",
       "    </tr>\n",
       "    <tr>\n",
       "      <th>TMEM70</th>\n",
       "      <td>0.048428</td>\n",
       "      <td>0.040155</td>\n",
       "    </tr>\n",
       "    <tr>\n",
       "      <th>TYROBP</th>\n",
       "      <td>0.023645</td>\n",
       "      <td>0.019769</td>\n",
       "    </tr>\n",
       "    <tr>\n",
       "      <th>PRKAR1A</th>\n",
       "      <td>0.039700</td>\n",
       "      <td>0.025996</td>\n",
       "    </tr>\n",
       "    <tr>\n",
       "      <th>GLO1</th>\n",
       "      <td>0.104306</td>\n",
       "      <td>0.047899</td>\n",
       "    </tr>\n",
       "    <tr>\n",
       "      <th>KPNA4</th>\n",
       "      <td>0.089678</td>\n",
       "      <td>0.051703</td>\n",
       "    </tr>\n",
       "    <tr>\n",
       "      <th>HMGN2</th>\n",
       "      <td>0.012427</td>\n",
       "      <td>0.013532</td>\n",
       "    </tr>\n",
       "    <tr>\n",
       "      <th>DHX58</th>\n",
       "      <td>0.029845</td>\n",
       "      <td>0.016445</td>\n",
       "    </tr>\n",
       "    <tr>\n",
       "      <th>HNRNPU</th>\n",
       "      <td>0.057884</td>\n",
       "      <td>0.032083</td>\n",
       "    </tr>\n",
       "    <tr>\n",
       "      <th>CDKN2D</th>\n",
       "      <td>0.031962</td>\n",
       "      <td>0.033355</td>\n",
       "    </tr>\n",
       "    <tr>\n",
       "      <th>JUNB</th>\n",
       "      <td>0.031934</td>\n",
       "      <td>0.023620</td>\n",
       "    </tr>\n",
       "    <tr>\n",
       "      <th>WIPI1</th>\n",
       "      <td>0.042833</td>\n",
       "      <td>0.025851</td>\n",
       "    </tr>\n",
       "    <tr>\n",
       "      <th>YWHAB</th>\n",
       "      <td>0.032325</td>\n",
       "      <td>0.024357</td>\n",
       "    </tr>\n",
       "    <tr>\n",
       "      <th>BECN1</th>\n",
       "      <td>0.077372</td>\n",
       "      <td>0.043778</td>\n",
       "    </tr>\n",
       "    <tr>\n",
       "      <th>PRDX1</th>\n",
       "      <td>0.084033</td>\n",
       "      <td>0.040645</td>\n",
       "    </tr>\n",
       "    <tr>\n",
       "      <th>SNRPF</th>\n",
       "      <td>0.052288</td>\n",
       "      <td>0.034388</td>\n",
       "    </tr>\n",
       "  </tbody>\n",
       "</table>\n",
       "</div>"
      ],
      "text/plain": [
       "         Mean importance       Std\n",
       "NFYA            0.033873  0.018404\n",
       "TMED10          0.084089  0.039118\n",
       "GABPB1          0.053005  0.033281\n",
       "MAFB            0.023664  0.021316\n",
       "TMEM70          0.048428  0.040155\n",
       "TYROBP          0.023645  0.019769\n",
       "PRKAR1A         0.039700  0.025996\n",
       "GLO1            0.104306  0.047899\n",
       "KPNA4           0.089678  0.051703\n",
       "HMGN2           0.012427  0.013532\n",
       "DHX58           0.029845  0.016445\n",
       "HNRNPU          0.057884  0.032083\n",
       "CDKN2D          0.031962  0.033355\n",
       "JUNB            0.031934  0.023620\n",
       "WIPI1           0.042833  0.025851\n",
       "YWHAB           0.032325  0.024357\n",
       "BECN1           0.077372  0.043778\n",
       "PRDX1           0.084033  0.040645\n",
       "SNRPF           0.052288  0.034388"
      ]
     },
     "execution_count": 227,
     "metadata": {},
     "output_type": "execute_result"
    }
   ],
   "source": [
    "pd.DataFrame({\"Mean importance\": imp_pb_vs_bc.mean(axis=0), \"Std\": imp_pb_vs_bc.std(axis=0)}, index=imp_pb_vs_bc.columns)"
   ]
  },
  {
   "cell_type": "markdown",
   "metadata": {},
   "source": [
    "In this case the most important \"feature\" is the one with the largest mean importance:"
   ]
  },
  {
   "cell_type": "code",
   "execution_count": 228,
   "metadata": {
    "collapsed": false
   },
   "outputs": [
    {
     "data": {
      "text/plain": [
       "u'GLO1'"
      ]
     },
     "execution_count": 228,
     "metadata": {},
     "output_type": "execute_result"
    }
   ],
   "source": [
    "imp_pb_vs_bc.mean(axis=0).argmax()"
   ]
  },
  {
   "cell_type": "markdown",
   "metadata": {},
   "source": [
    "Putting the two comparisons together:"
   ]
  },
  {
   "cell_type": "code",
   "execution_count": 229,
   "metadata": {
    "collapsed": false
   },
   "outputs": [
    {
     "data": {
      "image/png": "[encoded data removed]",
      "text/plain": [
       "<matplotlib.figure.Figure at 0x7f277bf6d410>"
      ]
     },
     "metadata": {},
     "output_type": "display_data"
    }
   ],
   "source": [
    "a = pd.DataFrame({\"PB vs BC\": imp_pb_vs_bc.mean(axis=0), \"CTC vs PB\": imp_ctc_vs_pb.mean(axis=0),\n",
    "                 \"Gene\":imp_ctc_vs_pb.columns})\n",
    "a = pd.melt(a, id_vars=[\"Gene\"], var_name=\"Comparison\")\n",
    "sb.barplot(y=\"Gene\", x=\"value\", hue=\"Comparison\", data=a, palette=\"Set2\")\n",
    "plt.show()"
   ]
  },
  {
   "cell_type": "code",
   "execution_count": 350,
   "metadata": {
    "collapsed": false
   },
   "outputs": [
    {
     "data": {
      "text/plain": [
       "[u'10513',\n",
       " u'11244',\n",
       " u'4800',\n",
       " u'4801',\n",
       " u'6667',\n",
       " u'6721',\n",
       " u'1457',\n",
       " u'4802',\n",
       " u'51631',\n",
       " u'993']"
      ]
     },
     "execution_count": 350,
     "metadata": {},
     "output_type": "execute_result"
    }
   ],
   "source": [
    "sc = fitted_clfs_ctc_vs_pb[0][-1]\n",
    "sc.base_clfs_[0].get_nearest_neighbors()"
   ]
  },
  {
   "cell_type": "code",
   "execution_count": 351,
   "metadata": {
    "collapsed": false
   },
   "outputs": [
    {
     "data": {
      "text/plain": [
       "array([ 0.035,  0.02 ,  0.07 ,  0.11 ,  0.065,  0.02 ,  0.05 ,  0.03 ,\n",
       "        0.05 ,  0.04 ,  0.065,  0.07 ,  0.02 ,  0.085,  0.075,  0.08 ,\n",
       "        0.025,  0.03 ,  0.035])"
      ]
     },
     "execution_count": 351,
     "metadata": {},
     "output_type": "execute_result"
    }
   ],
   "source": [
    "sc.meta_clf_.feature_importances_"
   ]
  },
  {
   "cell_type": "code",
   "execution_count": 352,
   "metadata": {
    "collapsed": false
   },
   "outputs": [
    {
     "data": {
      "text/plain": [
       "[10, 10, 20, 20, 3, 3, 3, 20, 5, 3, 10, 3, 5, 5, 10, 3, 5, 5, 5]"
      ]
     },
     "execution_count": 352,
     "metadata": {},
     "output_type": "execute_result"
    }
   ],
   "source": [
    "[len(s.get_nearest_neighbors()) for s in sc.base_clfs_]"
   ]
  },
  {
   "cell_type": "code",
   "execution_count": 353,
   "metadata": {
    "collapsed": false
   },
   "outputs": [
    {
     "data": {
      "text/plain": [
       "array([ 0.0035,  0.002 ,  0.0035,  0.0055,  0.0217,  0.0067,  0.0167,\n",
       "        0.0015,  0.01  ,  0.0133,  0.0065,  0.0233,  0.004 ,  0.017 ,\n",
       "        0.0075,  0.0267,  0.005 ,  0.006 ,  0.007 ])"
      ]
     },
     "execution_count": 353,
     "metadata": {},
     "output_type": "execute_result"
    }
   ],
   "source": [
    "sc.meta_clf_.feature_importances_ / [len(s.get_nearest_neighbors()) for s in sc.base_clfs_]"
   ]
  },
  {
   "cell_type": "code",
   "execution_count": 317,
   "metadata": {
    "collapsed": false
   },
   "outputs": [
    {
     "name": "stdout",
     "output_type": "stream",
     "text": [
      "NFYA 10: APPBP2, CDC25A, CSNK2A1, LUC7L2, NFYA, NFYB, NFYC, SP1, SREBF2, ZHX1\n",
      "TMED10 10: AKT1, AKT2, APOB, ASS1, DHODH, JMJD1C, RCHY1, SNX27, TMED10, TMED2\n",
      "GABPB1 10: CIC, FANCG, GABPA, GABPB1, IL16, LMO4, RSPH14, SNRPB2, TRAF2, USO1\n",
      "MAFB 20: ANAPC5, ATF1, ATF2, ATF4, BECN1, CEBPG, CREB5, DDB1, FOS, FOSL1, FOSL2, JUN, JUNB, JUND, MAFB, MAFG, MIS12, ZDHHC2, ZW10, ZWINT\n",
      "TMEM70 3: PHC2, SSX2IP, TMEM70\n",
      "TYROBP 3: MEOX2, MICA, TYROBP\n",
      "PRKAR1A 3: PRKAR1A, UBE2I, WNK1\n",
      "GLO1 20: BCL10, BIRC2, CDCA8, CREBBP, EEF1A1, GIT2, GLO1, GTF2E1, IKBKB, IRAK1, NFKBIA, RIPK1, STAT3, SUPT5H, TANK, TAX1BP1, TNFAIP3, TNIP1, TRIM29, ZDHHC17\n",
      "KPNA4 5: HNRNPC, KPNA3, KPNA4, MAT2B, RAC1\n",
      "HMGN2 10: APEX1, EP300, GRB2, HMGN2, NCK1, TERF1, TERF2, TERF2IP, TINF2, XRCC6\n",
      "DHX58 10: ACVR1, APC, DHX58, ITSN1, KPNA2, MLH1, POM121, SMAD4, SMURF1, TERF2IP\n",
      "HNRNPU 10: A1CF, CDKN2A, HNRNPD, HNRNPF, HNRNPH3, HNRNPU, MAPK6, PRMT1, RBM4, SYNCRIP\n",
      "CDKN2D 20: ASCC2, ATXN1, CDK4, CDK6, CDKN2D, COPS5, DAB1, GRB2, HSD17B14, IKZF3, INCA1, NEK6, NR4A1, NR4A2, PSMA1, RAB1A, RB1, RBPMS, RXRA, TGFBR1\n",
      "JUNB 3: ATF2, CREB5, JUNB\n",
      "WIPI1 10: ATXN1, KCTD1, KCTD15, NOTCH2NL, PPA1, REN, SETDB1, TRIM27, UNC119, WIPI1\n",
      "YWHAB 3: RAF1, YWHAB, YWHAE\n",
      "BECN1 5: BCL2, BECN1, GFI1B, PIK3C3, ZWINT\n",
      "PRDX1 5: ADH5, MYD88, PRDX1, PRDX4, TERF1\n",
      "SNRPF 5: LSM6, LSM7, SNRPE, SNRPF, SNRPG\n"
     ]
    }
   ],
   "source": [
    "subnets=defaultdict(list)\n",
    "for fc in fitted_clfs_ctc_vs_pb:\n",
    "    for b in fc[-1].base_clfs_:\n",
    "        subnets[b.seed].extend ( b.get_nearest_neighbors() )\n",
    "subnets_stats={k: defaultdict(int) for k in subnets.keys()}\n",
    "for s, v in subnets.iteritems():\n",
    "    for a in v:\n",
    "        subnets_stats[s][a] += 1\n",
    "\n",
    "threshold = 60\n",
    "for s, v in subnets_stats.iteritems():\n",
    "    l = [n for n,c in v.items() if c > threshold]\n",
    "    print \"%s %d: %s\" % (symbols1[s][0], len(l), \", \".join(sorted([symbols1[g][0] for g in l])))\n"
   ]
  },
  {
   "cell_type": "code",
   "execution_count": 310,
   "metadata": {
    "collapsed": false
   },
   "outputs": [
    {
     "data": {
      "text/html": [
       "<div>\n",
       "<table border=\"1\" class=\"dataframe\">\n",
       "  <thead>\n",
       "    <tr style=\"text-align: right;\">\n",
       "      <th></th>\n",
       "      <th>neighbor</th>\n",
       "      <th>seed</th>\n",
       "    </tr>\n",
       "  </thead>\n",
       "  <tbody>\n",
       "    <tr>\n",
       "      <th>48</th>\n",
       "      <td>ATF2</td>\n",
       "      <td>MAFB</td>\n",
       "    </tr>\n",
       "    <tr>\n",
       "      <th>134</th>\n",
       "      <td>ATF2</td>\n",
       "      <td>JUNB</td>\n",
       "    </tr>\n",
       "    <tr>\n",
       "      <th>141</th>\n",
       "      <td>ATXN1</td>\n",
       "      <td>WIPI1</td>\n",
       "    </tr>\n",
       "    <tr>\n",
       "      <th>131</th>\n",
       "      <td>ATXN1</td>\n",
       "      <td>CDKN2D</td>\n",
       "    </tr>\n",
       "    <tr>\n",
       "      <th>35</th>\n",
       "      <td>BECN1</td>\n",
       "      <td>MAFB</td>\n",
       "    </tr>\n",
       "    <tr>\n",
       "      <th>153</th>\n",
       "      <td>BECN1</td>\n",
       "      <td>BECN1</td>\n",
       "    </tr>\n",
       "    <tr>\n",
       "      <th>42</th>\n",
       "      <td>CREB5</td>\n",
       "      <td>MAFB</td>\n",
       "    </tr>\n",
       "    <tr>\n",
       "      <th>135</th>\n",
       "      <td>CREB5</td>\n",
       "      <td>JUNB</td>\n",
       "    </tr>\n",
       "    <tr>\n",
       "      <th>86</th>\n",
       "      <td>GRB2</td>\n",
       "      <td>HMGN2</td>\n",
       "    </tr>\n",
       "    <tr>\n",
       "      <th>117</th>\n",
       "      <td>GRB2</td>\n",
       "      <td>CDKN2D</td>\n",
       "    </tr>\n",
       "    <tr>\n",
       "      <th>44</th>\n",
       "      <td>JUNB</td>\n",
       "      <td>MAFB</td>\n",
       "    </tr>\n",
       "    <tr>\n",
       "      <th>136</th>\n",
       "      <td>JUNB</td>\n",
       "      <td>JUNB</td>\n",
       "    </tr>\n",
       "    <tr>\n",
       "      <th>156</th>\n",
       "      <td>TERF1</td>\n",
       "      <td>PRDX1</td>\n",
       "    </tr>\n",
       "    <tr>\n",
       "      <th>93</th>\n",
       "      <td>TERF1</td>\n",
       "      <td>HMGN2</td>\n",
       "    </tr>\n",
       "    <tr>\n",
       "      <th>97</th>\n",
       "      <td>TERF2IP</td>\n",
       "      <td>DHX58</td>\n",
       "    </tr>\n",
       "    <tr>\n",
       "      <th>91</th>\n",
       "      <td>TERF2IP</td>\n",
       "      <td>HMGN2</td>\n",
       "    </tr>\n",
       "    <tr>\n",
       "      <th>152</th>\n",
       "      <td>ZWINT</td>\n",
       "      <td>BECN1</td>\n",
       "    </tr>\n",
       "    <tr>\n",
       "      <th>31</th>\n",
       "      <td>ZWINT</td>\n",
       "      <td>MAFB</td>\n",
       "    </tr>\n",
       "  </tbody>\n",
       "</table>\n",
       "</div>"
      ],
      "text/plain": [
       "    neighbor    seed\n",
       "48      ATF2    MAFB\n",
       "134     ATF2    JUNB\n",
       "141    ATXN1   WIPI1\n",
       "131    ATXN1  CDKN2D\n",
       "35     BECN1    MAFB\n",
       "153    BECN1   BECN1\n",
       "42     CREB5    MAFB\n",
       "135    CREB5    JUNB\n",
       "86      GRB2   HMGN2\n",
       "117     GRB2  CDKN2D\n",
       "44      JUNB    MAFB\n",
       "136     JUNB    JUNB\n",
       "156    TERF1   PRDX1\n",
       "93     TERF1   HMGN2\n",
       "97   TERF2IP   DHX58\n",
       "91   TERF2IP   HMGN2\n",
       "152    ZWINT   BECN1\n",
       "31     ZWINT    MAFB"
      ]
     },
     "execution_count": 310,
     "metadata": {},
     "output_type": "execute_result"
    }
   ],
   "source": [
    "a = pd.DataFrame({\"seed\": [symbols1[s][0] for s, v in subnets_stats.iteritems() for n,c in v.items() if c > threshold],\n",
    "             \"neighbor\":[symbols1[n][0] for s, v in subnets_stats.iteritems() for n,c in v.items() if c > threshold]})\n",
    "b = a.groupby(\"neighbor\",as_index=False).count()\n",
    "in_multiple_subnets = b[b.seed>1].neighbor\n",
    "\n",
    "a[a.neighbor.isin(in_multiple_subnets)].sort_values(by=\"neighbor\")"
   ]
  },
  {
   "cell_type": "code",
   "execution_count": 315,
   "metadata": {
    "collapsed": false
   },
   "outputs": [
    {
     "name": "stdout",
     "output_type": "stream",
     "text": [
      "NFYA 20 : APPBP2, CDC25A, CREB1, CSNK2A1, ESR2, GRB2, GTF2A2, GTF2E2, LUC7L2, NFYA, NFYB, NFYC, PAPOLG, PCBD1, PWP1, SMURF1, SP1, SREBF2, TBP, ZHX1\n",
      "TMED10 21 : AKT1, AKT1S1, AKT2, APOA1, APOB, ASS1, DHODH, ESR1, JMJD1C, NAMPT, PDPK1, POFUT1, PRKDC, RCHY1, SH3RF1, SNX27, SORBS2, STEAP4, TCL1A, TMED10, TMED2\n",
      "GABPB1 20 : ATXN1, ATXN2, CDKN2A, CIC, CSNK2B, DAZAP2, FANCG, GABPA, GABPB1, IL16, LMO4, MTUS2, PCBP1, QKI, RSPH14, SNRPB2, TRAF2, TRIM27, USHBP1, USO1\n",
      "MAFB 20 : ANAPC5, ATF1, ATF2, ATF4, BECN1, CEBPG, CREB5, DDB1, FOS, FOSL1, FOSL2, JUN, JUNB, JUND, MAFB, MAFG, MIS12, ZDHHC2, ZW10, ZWINT\n",
      "TMEM70 20 : BMI1, BYSL, CSNK2B, FAM161A, FHL3, GFI1B, GRB2, KAT5, KDM1A, KIFC3, L3MBTL3, MAPK6, MFAP1, NCK1, PHC2, SIAH1, SMAD3, SSX2IP, TMEM70, TRIM41\n",
      "TYROBP 10 : ATXN1, DAB1, DAZAP2, KLRK1, MDFI, MEOX2, MICA, RBFOX2, RBPMS, TYROBP\n",
      "PRKAR1A 5 : MAPK6, PRKAR1A, TAB1, UBE2I, WNK1\n",
      "GLO1 30 : BCL10, BIRC2, CDCA8, CLIC1, CREBBP, EEF1A1, GCC1, GIT2, GLO1, GTF2E1, IKBKB, IRAK1, KRT18, NFKBIA, POLR2E, PPP2CA, RIPK1, SNW1, SSX2IP, STAT3, STX11, SUPT5H, TANK, TARBP2, TAX1BP1, TNFAIP3, TNIP1, TRIM29, WWP1, ZDHHC17\n",
      "KPNA4 5 : HNRNPC, KPNA3, KPNA4, MAT2B, RAC1\n",
      "HMGN2 10 : APEX1, EP300, GRB2, HMGN2, NCK1, TERF1, TERF2, TERF2IP, TINF2, XRCC6\n",
      "DHX58 30 : ACVR1, AFF4, APC, ATP6V1G1, CCDC85B, DHX58, FAM46C, ITSN1, KPNA2, LDLR, MDFI, MLH1, MTUS2, NMI, NUP54, OBFC1, PLSCR1, POM121, POMZP3, RAPGEF3, RBPMS, SLC25A6, SMAD4, SMURF1, TANK, TERF2IP, TRAF2, TRIM23, TRIP6, XRCC6BP1\n",
      "HNRNPU 30 : A1CF, CDC45, CDC5L, CDC6, CDC7, CDK4, CDK6, CDKN2A, CHERP, CRMP1, DDX17, DDX5, FN1, HNRNPA0, HNRNPA1, HNRNPD, HNRNPF, HNRNPH1, HNRNPH3, HNRNPU, HNRNPUL1, KAT5, MAPK6, MCM5, MDM2, PRKCA, PRMT1, RBM4, SYNCRIP, TTR\n",
      "CDKN2D 20 : ASCC2, ATXN1, CDK4, CDK6, CDKN2D, COPS5, DAB1, GRB2, HSD17B14, IKZF3, INCA1, NEK6, NR4A1, NR4A2, PSMA1, RAB1A, RB1, RBPMS, RXRA, TGFBR1\n",
      "JUNB 5 : ATF2, ATF4, CREB5, FOS, JUNB\n",
      "WIPI1 10 : ATXN1, KCTD1, KCTD15, NOTCH2NL, PPA1, REN, SETDB1, TRIM27, UNC119, WIPI1\n",
      "YWHAB 10 : BAD, BRAF, EPB41L3, IGF1R, PRKCZ, RAF1, TNFAIP3, YAP1, YWHAB, YWHAE\n",
      "BECN1 30 : ATG14, BAD, BAK1, BAX, BCL2, BCL2L11, BECN1, BID, BNIP3L, CASP3, CASP8, ESR2, GFI1B, MAFB, MAPK1, MAPK8, MAPRE1, MCL1, MIS12, NR4A1, NSL1, PIK3C3, PIK3R4, PMAIP1, PPP1CA, TP53BP2, UVRAG, VDAC1, ZW10, ZWINT\n",
      "PRDX1 5 : ADH5, MYD88, PRDX1, PRDX4, TERF1\n",
      "SNRPF 20 : CLNS1A, GEMIN2, IKZF1, LSM3, LSM4, LSM5, LSM6, LSM7, LSM8, PSMA3, PUF60, SMN2, SNRPA1, SNRPB2, SNRPD1, SNRPE, SNRPF, SNRPG, SRRT, SRSF5\n"
     ]
    }
   ],
   "source": [
    "subnets=defaultdict(list)\n",
    "for fc in fitted_clfs_pb_vs_bc:\n",
    "    for b in fc[-1].base_clfs_:\n",
    "        subnets[b.seed].extend ( b.get_nearest_neighbors() )\n",
    "subnets_stats={k: defaultdict(int) for k in subnets.keys()}\n",
    "for s, v in subnets.iteritems():\n",
    "    for a in v:\n",
    "        subnets_stats[s][a] += 1\n",
    "\n",
    "threshold = 60\n",
    "for s, v in subnets_stats.iteritems():\n",
    "    l = [n for n,c in v.items() if c > threshold]\n",
    "    print \"%s %d : %s\" % (symbols1[s][0], len(l), \", \".join(sorted([symbols1[g][0] for g in l])))\n"
   ]
  },
  {
   "cell_type": "code",
   "execution_count": 314,
   "metadata": {
    "collapsed": false
   },
   "outputs": [
    {
     "data": {
      "text/html": [
       "<div>\n",
       "<table border=\"1\" class=\"dataframe\">\n",
       "  <thead>\n",
       "    <tr style=\"text-align: right;\">\n",
       "      <th></th>\n",
       "      <th>neighbor</th>\n",
       "      <th>seed</th>\n",
       "    </tr>\n",
       "  </thead>\n",
       "  <tbody>\n",
       "    <tr>\n",
       "      <th>79</th>\n",
       "      <td>ATF2</td>\n",
       "      <td>MAFB</td>\n",
       "    </tr>\n",
       "    <tr>\n",
       "      <th>245</th>\n",
       "      <td>ATF2</td>\n",
       "      <td>JUNB</td>\n",
       "    </tr>\n",
       "    <tr>\n",
       "      <th>70</th>\n",
       "      <td>ATF4</td>\n",
       "      <td>MAFB</td>\n",
       "    </tr>\n",
       "    <tr>\n",
       "      <th>241</th>\n",
       "      <td>ATF4</td>\n",
       "      <td>JUNB</td>\n",
       "    </tr>\n",
       "    <tr>\n",
       "      <th>238</th>\n",
       "      <td>ATXN1</td>\n",
       "      <td>CDKN2D</td>\n",
       "    </tr>\n",
       "    <tr>\n",
       "      <th>110</th>\n",
       "      <td>ATXN1</td>\n",
       "      <td>TYROBP</td>\n",
       "    </tr>\n",
       "    <tr>\n",
       "      <th>56</th>\n",
       "      <td>ATXN1</td>\n",
       "      <td>GABPB1</td>\n",
       "    </tr>\n",
       "    <tr>\n",
       "      <th>252</th>\n",
       "      <td>ATXN1</td>\n",
       "      <td>WIPI1</td>\n",
       "    </tr>\n",
       "    <tr>\n",
       "      <th>268</th>\n",
       "      <td>BAD</td>\n",
       "      <td>BECN1</td>\n",
       "    </tr>\n",
       "    <tr>\n",
       "      <th>256</th>\n",
       "      <td>BAD</td>\n",
       "      <td>YWHAB</td>\n",
       "    </tr>\n",
       "    <tr>\n",
       "      <th>280</th>\n",
       "      <td>BECN1</td>\n",
       "      <td>BECN1</td>\n",
       "    </tr>\n",
       "    <tr>\n",
       "      <th>66</th>\n",
       "      <td>BECN1</td>\n",
       "      <td>MAFB</td>\n",
       "    </tr>\n",
       "    <tr>\n",
       "      <th>227</th>\n",
       "      <td>CDK4</td>\n",
       "      <td>CDKN2D</td>\n",
       "    </tr>\n",
       "    <tr>\n",
       "      <th>197</th>\n",
       "      <td>CDK4</td>\n",
       "      <td>HNRNPU</td>\n",
       "    </tr>\n",
       "    <tr>\n",
       "      <th>211</th>\n",
       "      <td>CDK6</td>\n",
       "      <td>HNRNPU</td>\n",
       "    </tr>\n",
       "    <tr>\n",
       "      <th>234</th>\n",
       "      <td>CDK6</td>\n",
       "      <td>CDKN2D</td>\n",
       "    </tr>\n",
       "    <tr>\n",
       "      <th>54</th>\n",
       "      <td>CDKN2A</td>\n",
       "      <td>GABPB1</td>\n",
       "    </tr>\n",
       "    <tr>\n",
       "      <th>216</th>\n",
       "      <td>CDKN2A</td>\n",
       "      <td>HNRNPU</td>\n",
       "    </tr>\n",
       "    <tr>\n",
       "      <th>242</th>\n",
       "      <td>CREB5</td>\n",
       "      <td>JUNB</td>\n",
       "    </tr>\n",
       "    <tr>\n",
       "      <th>73</th>\n",
       "      <td>CREB5</td>\n",
       "      <td>MAFB</td>\n",
       "    </tr>\n",
       "    <tr>\n",
       "      <th>49</th>\n",
       "      <td>CSNK2B</td>\n",
       "      <td>GABPB1</td>\n",
       "    </tr>\n",
       "    <tr>\n",
       "      <th>89</th>\n",
       "      <td>CSNK2B</td>\n",
       "      <td>TMEM70</td>\n",
       "    </tr>\n",
       "    <tr>\n",
       "      <th>236</th>\n",
       "      <td>DAB1</td>\n",
       "      <td>CDKN2D</td>\n",
       "    </tr>\n",
       "    <tr>\n",
       "      <th>108</th>\n",
       "      <td>DAB1</td>\n",
       "      <td>TYROBP</td>\n",
       "    </tr>\n",
       "    <tr>\n",
       "      <th>109</th>\n",
       "      <td>DAZAP2</td>\n",
       "      <td>TYROBP</td>\n",
       "    </tr>\n",
       "    <tr>\n",
       "      <th>55</th>\n",
       "      <td>DAZAP2</td>\n",
       "      <td>GABPB1</td>\n",
       "    </tr>\n",
       "    <tr>\n",
       "      <th>15</th>\n",
       "      <td>ESR2</td>\n",
       "      <td>NFYA</td>\n",
       "    </tr>\n",
       "    <tr>\n",
       "      <th>294</th>\n",
       "      <td>ESR2</td>\n",
       "      <td>BECN1</td>\n",
       "    </tr>\n",
       "    <tr>\n",
       "      <th>78</th>\n",
       "      <td>FOS</td>\n",
       "      <td>MAFB</td>\n",
       "    </tr>\n",
       "    <tr>\n",
       "      <th>244</th>\n",
       "      <td>FOS</td>\n",
       "      <td>JUNB</td>\n",
       "    </tr>\n",
       "    <tr>\n",
       "      <th>...</th>\n",
       "      <td>...</td>\n",
       "      <td>...</td>\n",
       "    </tr>\n",
       "    <tr>\n",
       "      <th>58</th>\n",
       "      <td>MTUS2</td>\n",
       "      <td>GABPB1</td>\n",
       "    </tr>\n",
       "    <tr>\n",
       "      <th>153</th>\n",
       "      <td>NCK1</td>\n",
       "      <td>HMGN2</td>\n",
       "    </tr>\n",
       "    <tr>\n",
       "      <th>85</th>\n",
       "      <td>NCK1</td>\n",
       "      <td>TMEM70</td>\n",
       "    </tr>\n",
       "    <tr>\n",
       "      <th>273</th>\n",
       "      <td>NR4A1</td>\n",
       "      <td>BECN1</td>\n",
       "    </tr>\n",
       "    <tr>\n",
       "      <th>222</th>\n",
       "      <td>NR4A1</td>\n",
       "      <td>CDKN2D</td>\n",
       "    </tr>\n",
       "    <tr>\n",
       "      <th>104</th>\n",
       "      <td>RBPMS</td>\n",
       "      <td>TYROBP</td>\n",
       "    </tr>\n",
       "    <tr>\n",
       "      <th>170</th>\n",
       "      <td>RBPMS</td>\n",
       "      <td>DHX58</td>\n",
       "    </tr>\n",
       "    <tr>\n",
       "      <th>235</th>\n",
       "      <td>RBPMS</td>\n",
       "      <td>CDKN2D</td>\n",
       "    </tr>\n",
       "    <tr>\n",
       "      <th>188</th>\n",
       "      <td>SMURF1</td>\n",
       "      <td>DHX58</td>\n",
       "    </tr>\n",
       "    <tr>\n",
       "      <th>19</th>\n",
       "      <td>SMURF1</td>\n",
       "      <td>NFYA</td>\n",
       "    </tr>\n",
       "    <tr>\n",
       "      <th>42</th>\n",
       "      <td>SNRPB2</td>\n",
       "      <td>GABPB1</td>\n",
       "    </tr>\n",
       "    <tr>\n",
       "      <th>307</th>\n",
       "      <td>SNRPB2</td>\n",
       "      <td>SNRPF</td>\n",
       "    </tr>\n",
       "    <tr>\n",
       "      <th>88</th>\n",
       "      <td>SSX2IP</td>\n",
       "      <td>TMEM70</td>\n",
       "    </tr>\n",
       "    <tr>\n",
       "      <th>128</th>\n",
       "      <td>SSX2IP</td>\n",
       "      <td>GLO1</td>\n",
       "    </tr>\n",
       "    <tr>\n",
       "      <th>138</th>\n",
       "      <td>TANK</td>\n",
       "      <td>GLO1</td>\n",
       "    </tr>\n",
       "    <tr>\n",
       "      <th>181</th>\n",
       "      <td>TANK</td>\n",
       "      <td>DHX58</td>\n",
       "    </tr>\n",
       "    <tr>\n",
       "      <th>152</th>\n",
       "      <td>TERF1</td>\n",
       "      <td>HMGN2</td>\n",
       "    </tr>\n",
       "    <tr>\n",
       "      <th>297</th>\n",
       "      <td>TERF1</td>\n",
       "      <td>PRDX1</td>\n",
       "    </tr>\n",
       "    <tr>\n",
       "      <th>158</th>\n",
       "      <td>TERF2IP</td>\n",
       "      <td>HMGN2</td>\n",
       "    </tr>\n",
       "    <tr>\n",
       "      <th>174</th>\n",
       "      <td>TERF2IP</td>\n",
       "      <td>DHX58</td>\n",
       "    </tr>\n",
       "    <tr>\n",
       "      <th>137</th>\n",
       "      <td>TNFAIP3</td>\n",
       "      <td>GLO1</td>\n",
       "    </tr>\n",
       "    <tr>\n",
       "      <th>263</th>\n",
       "      <td>TNFAIP3</td>\n",
       "      <td>YWHAB</td>\n",
       "    </tr>\n",
       "    <tr>\n",
       "      <th>60</th>\n",
       "      <td>TRAF2</td>\n",
       "      <td>GABPB1</td>\n",
       "    </tr>\n",
       "    <tr>\n",
       "      <th>190</th>\n",
       "      <td>TRAF2</td>\n",
       "      <td>DHX58</td>\n",
       "    </tr>\n",
       "    <tr>\n",
       "      <th>247</th>\n",
       "      <td>TRIM27</td>\n",
       "      <td>WIPI1</td>\n",
       "    </tr>\n",
       "    <tr>\n",
       "      <th>46</th>\n",
       "      <td>TRIM27</td>\n",
       "      <td>GABPB1</td>\n",
       "    </tr>\n",
       "    <tr>\n",
       "      <th>61</th>\n",
       "      <td>ZW10</td>\n",
       "      <td>MAFB</td>\n",
       "    </tr>\n",
       "    <tr>\n",
       "      <th>277</th>\n",
       "      <td>ZW10</td>\n",
       "      <td>BECN1</td>\n",
       "    </tr>\n",
       "    <tr>\n",
       "      <th>272</th>\n",
       "      <td>ZWINT</td>\n",
       "      <td>BECN1</td>\n",
       "    </tr>\n",
       "    <tr>\n",
       "      <th>62</th>\n",
       "      <td>ZWINT</td>\n",
       "      <td>MAFB</td>\n",
       "    </tr>\n",
       "  </tbody>\n",
       "</table>\n",
       "<p>80 rows × 2 columns</p>\n",
       "</div>"
      ],
      "text/plain": [
       "    neighbor    seed\n",
       "79      ATF2    MAFB\n",
       "245     ATF2    JUNB\n",
       "70      ATF4    MAFB\n",
       "241     ATF4    JUNB\n",
       "238    ATXN1  CDKN2D\n",
       "110    ATXN1  TYROBP\n",
       "56     ATXN1  GABPB1\n",
       "252    ATXN1   WIPI1\n",
       "268      BAD   BECN1\n",
       "256      BAD   YWHAB\n",
       "280    BECN1   BECN1\n",
       "66     BECN1    MAFB\n",
       "227     CDK4  CDKN2D\n",
       "197     CDK4  HNRNPU\n",
       "211     CDK6  HNRNPU\n",
       "234     CDK6  CDKN2D\n",
       "54    CDKN2A  GABPB1\n",
       "216   CDKN2A  HNRNPU\n",
       "242    CREB5    JUNB\n",
       "73     CREB5    MAFB\n",
       "49    CSNK2B  GABPB1\n",
       "89    CSNK2B  TMEM70\n",
       "236     DAB1  CDKN2D\n",
       "108     DAB1  TYROBP\n",
       "109   DAZAP2  TYROBP\n",
       "55    DAZAP2  GABPB1\n",
       "15      ESR2    NFYA\n",
       "294     ESR2   BECN1\n",
       "78       FOS    MAFB\n",
       "244      FOS    JUNB\n",
       "..       ...     ...\n",
       "58     MTUS2  GABPB1\n",
       "153     NCK1   HMGN2\n",
       "85      NCK1  TMEM70\n",
       "273    NR4A1   BECN1\n",
       "222    NR4A1  CDKN2D\n",
       "104    RBPMS  TYROBP\n",
       "170    RBPMS   DHX58\n",
       "235    RBPMS  CDKN2D\n",
       "188   SMURF1   DHX58\n",
       "19    SMURF1    NFYA\n",
       "42    SNRPB2  GABPB1\n",
       "307   SNRPB2   SNRPF\n",
       "88    SSX2IP  TMEM70\n",
       "128   SSX2IP    GLO1\n",
       "138     TANK    GLO1\n",
       "181     TANK   DHX58\n",
       "152    TERF1   HMGN2\n",
       "297    TERF1   PRDX1\n",
       "158  TERF2IP   HMGN2\n",
       "174  TERF2IP   DHX58\n",
       "137  TNFAIP3    GLO1\n",
       "263  TNFAIP3   YWHAB\n",
       "60     TRAF2  GABPB1\n",
       "190    TRAF2   DHX58\n",
       "247   TRIM27   WIPI1\n",
       "46    TRIM27  GABPB1\n",
       "61      ZW10    MAFB\n",
       "277     ZW10   BECN1\n",
       "272    ZWINT   BECN1\n",
       "62     ZWINT    MAFB\n",
       "\n",
       "[80 rows x 2 columns]"
      ]
     },
     "execution_count": 314,
     "metadata": {},
     "output_type": "execute_result"
    }
   ],
   "source": [
    "a = pd.DataFrame({\"seed\": [symbols1[s][0] for s, v in subnets_stats.iteritems() for n,c in v.items() if c > threshold],\n",
    "             \"neighbor\":[symbols1[n][0] for s, v in subnets_stats.iteritems() for n,c in v.items() if c > threshold]})\n",
    "b = a.groupby(\"neighbor\",as_index=False).count()\n",
    "in_multiple_subnets = b[b.seed>1].neighbor\n",
    "\n",
    "a[a.neighbor.isin(in_multiple_subnets)].sort_values(by=\"neighbor\")"
   ]
  },
  {
   "cell_type": "code",
   "execution_count": 81,
   "metadata": {
    "collapsed": false
   },
   "outputs": [
    {
     "data": {
      "text/html": [
       "<div>\n",
       "<table border=\"1\" class=\"dataframe\">\n",
       "  <thead>\n",
       "    <tr style=\"text-align: right;\">\n",
       "      <th></th>\n",
       "      <th>Classifier</th>\n",
       "      <th>ROC AUC</th>\n",
       "    </tr>\n",
       "  </thead>\n",
       "  <tbody>\n",
       "    <tr>\n",
       "      <th>0</th>\n",
       "      <td>LogisticRegression</td>\n",
       "      <td>0.9900</td>\n",
       "    </tr>\n",
       "    <tr>\n",
       "      <th>1</th>\n",
       "      <td>KNeighborsClassifier</td>\n",
       "      <td>0.9500</td>\n",
       "    </tr>\n",
       "    <tr>\n",
       "      <th>2</th>\n",
       "      <td>RandomForestClassifier</td>\n",
       "      <td>0.7875</td>\n",
       "    </tr>\n",
       "    <tr>\n",
       "      <th>3</th>\n",
       "      <td>SVC</td>\n",
       "      <td>0.9800</td>\n",
       "    </tr>\n",
       "    <tr>\n",
       "      <th>4</th>\n",
       "      <td>SVC</td>\n",
       "      <td>0.9900</td>\n",
       "    </tr>\n",
       "  </tbody>\n",
       "</table>\n",
       "</div>"
      ],
      "text/plain": [
       "               Classifier  ROC AUC\n",
       "0      LogisticRegression   0.9900\n",
       "1    KNeighborsClassifier   0.9500\n",
       "2  RandomForestClassifier   0.7875\n",
       "3                     SVC   0.9800\n",
       "4                     SVC   0.9900"
      ]
     },
     "execution_count": 81,
     "metadata": {},
     "output_type": "execute_result"
    }
   ],
   "source": [
    "pd.DataFrame({\"Classifier\": [str_clf(c) for c in [linear_model.LogisticRegression(), neighbors.KNeighborsClassifier(n_neighbors=5), \n",
    "                               RandomForestClassifier(), svm.SVC(kernel=\"rbf\", C=1), svm.SVC(kernel=\"linear\", C=1)]], \n",
    "              \"ROC AUC\": np.mean(np.stack(s[\"roc_auc\"] for s in scores_1), axis=0)})"
   ]
  },
  {
   "cell_type": "code",
   "execution_count": 261,
   "metadata": {
    "collapsed": true
   },
   "outputs": [],
   "source": [
    "more_clfs = [linear_model.LogisticRegression(), \n",
    "                                neighbors.KNeighborsClassifier(n_neighbors=5), \n",
    "                                RandomForestClassifier(), \n",
    "                                svm.SVC(kernel=\"rbf\", C=1), \n",
    "                                svm.SVC(kernel=\"linear\", C=1)]\n",
    "scores_2, _ = score_clfs_in_df(more_clfs,\n",
    "                               gse45965_pb_vs_bc.drop(\"group\",1), \n",
    "                                                        gse45965_pb_vs_bc_group,\n",
    "                                                        n_iter = 100, verbose=False)"
   ]
  },
  {
   "cell_type": "code",
   "execution_count": 262,
   "metadata": {
    "collapsed": false
   },
   "outputs": [
    {
     "data": {
      "text/html": [
       "<div>\n",
       "<table border=\"1\" class=\"dataframe\">\n",
       "  <thead>\n",
       "    <tr style=\"text-align: right;\">\n",
       "      <th></th>\n",
       "      <th>Classifier</th>\n",
       "      <th>ROC AUC</th>\n",
       "    </tr>\n",
       "  </thead>\n",
       "  <tbody>\n",
       "    <tr>\n",
       "      <th>0</th>\n",
       "      <td>LogisticRegression</td>\n",
       "      <td>0.701250</td>\n",
       "    </tr>\n",
       "    <tr>\n",
       "      <th>1</th>\n",
       "      <td>KNeighborsClassifier</td>\n",
       "      <td>0.859062</td>\n",
       "    </tr>\n",
       "    <tr>\n",
       "      <th>2</th>\n",
       "      <td>RandomForestClassifier</td>\n",
       "      <td>0.841875</td>\n",
       "    </tr>\n",
       "    <tr>\n",
       "      <th>3</th>\n",
       "      <td>SVC</td>\n",
       "      <td>0.822500</td>\n",
       "    </tr>\n",
       "    <tr>\n",
       "      <th>4</th>\n",
       "      <td>SVC</td>\n",
       "      <td>0.953438</td>\n",
       "    </tr>\n",
       "  </tbody>\n",
       "</table>\n",
       "</div>"
      ],
      "text/plain": [
       "               Classifier   ROC AUC\n",
       "0      LogisticRegression  0.701250\n",
       "1    KNeighborsClassifier  0.859062\n",
       "2  RandomForestClassifier  0.841875\n",
       "3                     SVC  0.822500\n",
       "4                     SVC  0.953438"
      ]
     },
     "execution_count": 262,
     "metadata": {},
     "output_type": "execute_result"
    }
   ],
   "source": [
    "pd.DataFrame({\"Classifier\": [str_clf(c) for c in more_clfs], \n",
    "              \"ROC AUC\": np.mean(np.stack(s[\"roc_auc\"] for s in scores_2), axis=0)})"
   ]
  },
  {
   "cell_type": "code",
   "execution_count": 263,
   "metadata": {
    "collapsed": false
   },
   "outputs": [],
   "source": [
    "all_clfs = [linear_model.LogisticRegression(), \n",
    "                                neighbors.KNeighborsClassifier(n_neighbors=5), \n",
    "                                RandomForestClassifier(), \n",
    "                                svm.SVC(kernel=\"rbf\", C=1), \n",
    "                                svm.SVC(kernel=\"linear\", C=1),\n",
    "             g27_clf, \n",
    "            SubnetStackingClassifier(seeds_with_neighbors=get_seeds_with_neighbors1(gse45965_ctc_vs_pb.drop(\"group\",1)))\n",
    "            ]"
   ]
  },
  {
   "cell_type": "code",
   "execution_count": null,
   "metadata": {
    "collapsed": true
   },
   "outputs": [],
   "source": [
    "import sklearn.cross_validation\n",
    "random_state = np.random.RandomState(0xBABE)\n",
    "cvs = [cross_validation.StratifiedKFold(gse45965_pb_vs_bc_group, n_folds=3, random_state=random_state)\n",
    "       for _ in range(500)]"
   ]
  },
  {
   "cell_type": "code",
   "execution_count": null,
   "metadata": {
    "collapsed": false
   },
   "outputs": [],
   "source": [
    "pps = []\n",
    "for cv in cvs:\n",
    "    p = [(c, sklearn.cross_validation.cross_val_score(c,\n",
    "                                         gse45965_pb_vs_bc.drop(\"group\", 1),\n",
    "                                         gse45965_pb_vs_bc_group, cv=cv, scoring=\"roc_auc\"))\n",
    "         for c in all_clfs]\n",
    "    pps.append( p)"
   ]
  },
  {
   "cell_type": "code",
   "execution_count": null,
   "metadata": {
    "collapsed": false
   },
   "outputs": [],
   "source": [
    "\n",
    "pd.DataFrame({\"AUC\": [v*1.0/len(pps) for c,v in st.iteritems()]}, index=[str_clf(c) for c in st.keys()])"
   ]
  },
  {
   "cell_type": "markdown",
   "metadata": {},
   "source": [
    "## Repeated CV\n",
    "We are going to test the Subnet Stackign classisifier with repeated cross validation (See: Ji-Hyun Kim, \"Estimating classification error rate: Repeated cross-validation, repeated hold-out and bootstrap, Computational Statistics & Data Analysis, Vol 53(11), http://dx.doi.org/10.1016/j.csda.2009.04.009))\n"
   ]
  },
  {
   "cell_type": "code",
   "execution_count": 279,
   "metadata": {
    "collapsed": true
   },
   "outputs": [],
   "source": [
    "all_clfs = {\"Logistic Regression\": linear_model.LogisticRegression(), \n",
    "            \"K-nearest Neighbors(k=5)\": neighbors.KNeighborsClassifier(n_neighbors=5), \n",
    "            \"Random Forrest\": RandomForestClassifier(), \n",
    "            \"SVM-RBF\": svm.SVC(kernel=\"rbf\", C=1), \n",
    "             \"SVM-Linear\": svm.SVC(kernel=\"linear\", C=1),\n",
    "             \"Log. regression (G27)\": g27_clf, \n",
    "            \"Subnet Stacking\": SubnetStackingClassifier(seeds_with_neighbors=get_seeds_with_neighbors1(gse45965.drop(\"group\",1)))\n",
    "            }\n",
    "n_iter = 100\n",
    "n_jobs = 20"
   ]
  },
  {
   "cell_type": "markdown",
   "metadata": {},
   "source": [
    "We are going to use 100 iterations in parallel (20 processes) of 3-fold cross validation, which means 300 training and testing sets..\n",
    "\n",
    "#### CTC versus Peripheral Blood"
   ]
  },
  {
   "cell_type": "code",
   "execution_count": 280,
   "metadata": {
    "collapsed": true
   },
   "outputs": [],
   "source": [
    "from sklearn import cross_validation\n",
    "random_state = np.random.RandomState(0xCAFE)\n",
    "cvs_ctc_vs_pb = [cross_validation.StratifiedKFold(gse45965_ctc_vs_pb_group, n_folds=3, \n",
    "                                                  shuffle=True, random_state=random_state)\n",
    "                 for _ in range(n_iter)]"
   ]
  },
  {
   "cell_type": "markdown",
   "metadata": {},
   "source": [
    "How many distinct testing sets we have?"
   ]
  },
  {
   "cell_type": "code",
   "execution_count": 281,
   "metadata": {
    "collapsed": false
   },
   "outputs": [
    {
     "name": "stdout",
     "output_type": "stream",
     "text": [
      "232\n"
     ]
    }
   ],
   "source": [
    "from collections import defaultdict\n",
    "st=defaultdict(int)\n",
    "def str_set(s): return \":\".join(str(k) for k in s)\n",
    "for cv in cvs_ctc_vs_pb:\n",
    "    for train,test in cv:\n",
    "        st[ str_set(set(test)) ] += 1\n",
    "print len(st.keys())\n"
   ]
  },
  {
   "cell_type": "code",
   "execution_count": 282,
   "metadata": {
    "collapsed": false
   },
   "outputs": [],
   "source": [
    "def parallel_cv(cv, all_clfs, X, y):\n",
    "    import sklearn.cross_validation\n",
    "    p = {n : sklearn.cross_validation.cross_val_score(c, X,y, cv=cv, scoring=\"roc_auc\")\n",
    "         for n, c in all_clfs.items()}\n",
    "    return p"
   ]
  },
  {
   "cell_type": "markdown",
   "metadata": {},
   "source": [
    "Start the Cross Validations.. This takes a lot of time!!"
   ]
  },
  {
   "cell_type": "code",
   "execution_count": 283,
   "metadata": {
    "collapsed": false
   },
   "outputs": [],
   "source": [
    "from joblib import Parallel, delayed\n",
    "scores_ctc_vs_pb = Parallel(n_jobs=n_jobs)(delayed(parallel_cv)(cv, all_clfs, \n",
    "                                                gse45965_ctc_vs_pb.drop(\"group\",1), \n",
    "                                                gse45965_ctc_vs_pb_group)\n",
    "                           for cv in cvs_ctc_vs_pb)"
   ]
  },
  {
   "cell_type": "code",
   "execution_count": 284,
   "metadata": {
    "collapsed": false
   },
   "outputs": [
    {
     "data": {
      "text/html": [
       "<div>\n",
       "<table border=\"1\" class=\"dataframe\">\n",
       "  <thead>\n",
       "    <tr style=\"text-align: right;\">\n",
       "      <th></th>\n",
       "      <th>AUC</th>\n",
       "      <th>std. dev</th>\n",
       "    </tr>\n",
       "  </thead>\n",
       "  <tbody>\n",
       "    <tr>\n",
       "      <th>SVM-Linear</th>\n",
       "      <td>1.000000</td>\n",
       "      <td>0</td>\n",
       "    </tr>\n",
       "    <tr>\n",
       "      <th>Logistic Regression</th>\n",
       "      <td>1.000000</td>\n",
       "      <td>0</td>\n",
       "    </tr>\n",
       "    <tr>\n",
       "      <th>Log. regression (G27)</th>\n",
       "      <td>1.000000</td>\n",
       "      <td>0</td>\n",
       "    </tr>\n",
       "    <tr>\n",
       "      <th>Random Forrest</th>\n",
       "      <td>0.961944</td>\n",
       "      <td>0</td>\n",
       "    </tr>\n",
       "    <tr>\n",
       "      <th>SVM-RBF</th>\n",
       "      <td>1.000000</td>\n",
       "      <td>0</td>\n",
       "    </tr>\n",
       "    <tr>\n",
       "      <th>Subnet Stacking</th>\n",
       "      <td>1.000000</td>\n",
       "      <td>0</td>\n",
       "    </tr>\n",
       "    <tr>\n",
       "      <th>K-nearest Neighbors(k=5)</th>\n",
       "      <td>0.985278</td>\n",
       "      <td>0</td>\n",
       "    </tr>\n",
       "  </tbody>\n",
       "</table>\n",
       "</div>"
      ],
      "text/plain": [
       "                               AUC  std. dev\n",
       "SVM-Linear                1.000000         0\n",
       "Logistic Regression       1.000000         0\n",
       "Log. regression (G27)     1.000000         0\n",
       "Random Forrest            0.961944         0\n",
       "SVM-RBF                   1.000000         0\n",
       "Subnet Stacking           1.000000         0\n",
       "K-nearest Neighbors(k=5)  0.985278         0"
      ]
     },
     "execution_count": 284,
     "metadata": {},
     "output_type": "execute_result"
    }
   ],
   "source": [
    "from collections import defaultdict\n",
    "st=defaultdict(int)\n",
    "for pp in scores_ctc_vs_pb:\n",
    "    for n, s in pp.items():\n",
    "        st[n] += np.mean(s)\n",
    "pd.DataFrame({\"AUC\": [v*1.0/n_iter for c,v in st.iteritems()],\n",
    "              \"std. dev\": [np.std(v) for c,v in st.iteritems()]},\n",
    "             index=[c for c,v in st.iteritems()])\n"
   ]
  },
  {
   "cell_type": "code",
   "execution_count": 285,
   "metadata": {
    "collapsed": false
   },
   "outputs": [
    {
     "data": {
      "image/png": "[encoded data removed]",
      "text/plain": [
       "<matplotlib.figure.Figure at 0x7fd09bbb9a90>"
      ]
     },
     "metadata": {},
     "output_type": "display_data"
    }
   ],
   "source": [
    "st=[]\n",
    "for pp in scores_ctc_vs_pb:\n",
    "    for n, s in pp.items():\n",
    "        st.append( (n, np.mean(s)) )\n",
    "a = pd.DataFrame({'classifier': [v[0] for v in st], 'auc': [v[1] for v in st]})\n",
    "sb.set_style(\"darkgrid\")\n",
    "sb.barplot(y=\"classifier\", x=\"auc\", data=a, palette=\"muted\")\n",
    "plt.xticks(np.arange(0,1.12,0.1), rotation=90)\n",
    "plt.show()"
   ]
  },
  {
   "cell_type": "markdown",
   "metadata": {},
   "source": [
    "#### Peripheral Blood vs Breast Cancer"
   ]
  },
  {
   "cell_type": "code",
   "execution_count": 286,
   "metadata": {
    "collapsed": true
   },
   "outputs": [],
   "source": [
    "random_state = np.random.RandomState(0xCAFE)\n",
    "cvs_pb_vs_bc = [cross_validation.StratifiedKFold(gse45965_pb_vs_bc_group, n_folds=3, \n",
    "                                                  shuffle=True, random_state=random_state)\n",
    "                 for _ in range(n_iter)]"
   ]
  },
  {
   "cell_type": "markdown",
   "metadata": {},
   "source": [
    "How many distinct testing sets we have?"
   ]
  },
  {
   "cell_type": "code",
   "execution_count": 287,
   "metadata": {
    "collapsed": false
   },
   "outputs": [
    {
     "name": "stdout",
     "output_type": "stream",
     "text": [
      "300\n"
     ]
    }
   ],
   "source": [
    "from collections import defaultdict\n",
    "st=defaultdict(int)\n",
    "def str_set(s): return \":\".join(str(k) for k in s)\n",
    "for cv in cvs_pb_vs_bc:\n",
    "    for train,test in cv:\n",
    "        st[ str_set(set(test)) ] += 1\n",
    "print len(st.keys())"
   ]
  },
  {
   "cell_type": "code",
   "execution_count": 288,
   "metadata": {
    "collapsed": false
   },
   "outputs": [
    {
     "name": "stderr",
     "output_type": "stream",
     "text": [
      "[Parallel(n_jobs=20)]: Done  32 tasks      | elapsed:  7.5min\n",
      "[Parallel(n_jobs=20)]: Done 100 out of 100 | elapsed: 18.2min finished\n"
     ]
    }
   ],
   "source": [
    "from joblib import Parallel, delayed\n",
    "scores_pb_vs_bc = Parallel(n_jobs=n_jobs, verbose=5)(delayed(parallel_cv)(cv, all_clfs, \n",
    "                                                gse45965_pb_vs_bc.drop(\"group\",1), \n",
    "                                                gse45965_pb_vs_bc_group)\n",
    "                           for cv in cvs_pb_vs_bc)\n"
   ]
  },
  {
   "cell_type": "code",
   "execution_count": 289,
   "metadata": {
    "collapsed": false
   },
   "outputs": [
    {
     "data": {
      "text/html": [
       "<div>\n",
       "<table border=\"1\" class=\"dataframe\">\n",
       "  <thead>\n",
       "    <tr style=\"text-align: right;\">\n",
       "      <th></th>\n",
       "      <th>Avg. AUC</th>\n",
       "      <th>std. dev</th>\n",
       "    </tr>\n",
       "  </thead>\n",
       "  <tbody>\n",
       "    <tr>\n",
       "      <th>SVM-Linear</th>\n",
       "      <td>0.998550</td>\n",
       "      <td>0.004582</td>\n",
       "    </tr>\n",
       "    <tr>\n",
       "      <th>Logistic Regression</th>\n",
       "      <td>0.849855</td>\n",
       "      <td>0.046502</td>\n",
       "    </tr>\n",
       "    <tr>\n",
       "      <th>Log. regression (G27)</th>\n",
       "      <td>0.999112</td>\n",
       "      <td>0.003377</td>\n",
       "    </tr>\n",
       "    <tr>\n",
       "      <th>Random Forrest</th>\n",
       "      <td>0.973131</td>\n",
       "      <td>0.028785</td>\n",
       "    </tr>\n",
       "    <tr>\n",
       "      <th>SVM-RBF</th>\n",
       "      <td>0.997911</td>\n",
       "      <td>0.004831</td>\n",
       "    </tr>\n",
       "    <tr>\n",
       "      <th>Subnet Stacking</th>\n",
       "      <td>0.995901</td>\n",
       "      <td>0.007600</td>\n",
       "    </tr>\n",
       "    <tr>\n",
       "      <th>K-nearest Neighbors(k=5)</th>\n",
       "      <td>0.965956</td>\n",
       "      <td>0.027296</td>\n",
       "    </tr>\n",
       "  </tbody>\n",
       "</table>\n",
       "</div>"
      ],
      "text/plain": [
       "                          Avg. AUC  std. dev\n",
       "SVM-Linear                0.998550  0.004582\n",
       "Logistic Regression       0.849855  0.046502\n",
       "Log. regression (G27)     0.999112  0.003377\n",
       "Random Forrest            0.973131  0.028785\n",
       "SVM-RBF                   0.997911  0.004831\n",
       "Subnet Stacking           0.995901  0.007600\n",
       "K-nearest Neighbors(k=5)  0.965956  0.027296"
      ]
     },
     "execution_count": 289,
     "metadata": {},
     "output_type": "execute_result"
    }
   ],
   "source": [
    "from collections import defaultdict\n",
    "st=defaultdict(list)\n",
    "for pp in scores_pb_vs_bc:\n",
    "    for n, s in pp.items():\n",
    "        st[n].append(np.mean(s))\n",
    "pd.DataFrame({\"Avg. AUC\": [np.mean(v) for c,v in st.iteritems()],\n",
    "              \"std. dev\": [np.std(v) for c,v in st.iteritems()]}\n",
    "             , index=[c for c,v in st.iteritems()])\n"
   ]
  },
  {
   "cell_type": "code",
   "execution_count": 290,
   "metadata": {
    "collapsed": false
   },
   "outputs": [
    {
     "data": {
      "image/png": "[encoded data removed]",
      "text/plain": [
       "<matplotlib.figure.Figure at 0x7fd0c4087f50>"
      ]
     },
     "metadata": {},
     "output_type": "display_data"
    }
   ],
   "source": [
    "st=[]\n",
    "for pp in scores_pb_vs_bc:\n",
    "    for n, s in pp.items():\n",
    "        st.append( (n, np.mean(s)) )\n",
    "a = pd.DataFrame({'classifier': [v[0] for v in st], 'auc': [v[1] for v in st]})\n",
    "sb.set_style(\"darkgrid\")\n",
    "sb.barplot(y=\"classifier\", x=\"auc\", data=a, palette=\"muted\")\n",
    "plt.xticks(np.arange(0,1.12,0.1), rotation=90)\n",
    "plt.show()"
   ]
  }
 ],
 "metadata": {
  "kernelspec": {
   "display_name": "Python 2",
   "language": "python",
   "name": "python2"
  },
  "language_info": {
   "codemirror_mode": {
    "name": "ipython",
    "version": 2
   },
   "file_extension": ".py",
   "mimetype": "text/x-python",
   "name": "python",
   "nbconvert_exporter": "python",
   "pygments_lexer": "ipython2",
   "version": "2.7.10"
  }
 },
 "nbformat": 4,
 "nbformat_minor": 0
}
