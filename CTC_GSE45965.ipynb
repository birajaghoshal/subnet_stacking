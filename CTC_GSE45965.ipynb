{
 "cells": [
  {
   "cell_type": "code",
   "execution_count": 14,
   "metadata": {
    "collapsed": false
   },
   "outputs": [
    {
     "name": "stdout",
     "output_type": "stream",
     "text": [
      "The ipycache extension is already loaded. To reload it, use:\n",
      "  %reload_ext ipycache\n"
     ]
    }
   ],
   "source": [
    "# This line configures matplotlib to show figures embedded in the notebook, \n",
    "# instead of opening a new window for each figure. More about that later. \n",
    "# If you are using an old version of IPython, try using '%pylab inline' instead.\n",
    "%matplotlib inline\n",
    "%load_ext ipycache\n",
    "%precision 4\n",
    "from ipy_table import make_table, apply_theme\n",
    "import matplotlib.pyplot as plt\n",
    "import seaborn as sb\n",
    "import numpy as np\n",
    "import scipy as sp\n",
    "import pandas as pd\n",
    "import networkx as nx\n",
    "import networkxgmml\n",
    "\n",
    "from sklearn import linear_model\n",
    "\n",
    "sb.set_context('poster')\n",
    "sb.set_style('white')\n",
    "sb.set_color_codes()\n",
    "\n",
    "seeds_file = \"c_all.txt\"\n",
    "with open(seeds_file) as sf:\n",
    "    genes = [line.strip() for line in sf.readlines()]"
   ]
  },
  {
   "cell_type": "code",
   "execution_count": 3,
   "metadata": {
    "collapsed": true
   },
   "outputs": [],
   "source": [
    "import networkx as nx\n",
    "net_file = \"HINT_adjlist.txt\"\n",
    "G1 = nx.read_adjlist(net_file)\n",
    "G1.remove_edges_from(G1.selfloop_edges())\n",
    "## Find largest connected component\n",
    "CC=sorted(nx.connected_components(G1), key = len, reverse=True)[0]\n",
    "G1=G1.subgraph(CC)"
   ]
  },
  {
   "cell_type": "code",
   "execution_count": 8,
   "metadata": {
    "collapsed": false
   },
   "outputs": [
    {
     "name": "stdout",
     "output_type": "stream",
     "text": [
      "querying 1-1000...done.\n",
      "querying 1001-2000...done.\n",
      "querying 2001-3000...done.\n",
      "querying 3001-4000...done.\n",
      "querying 4001-5000...done.\n",
      "querying 5001-6000...done.\n",
      "querying 6001-7000...done.\n",
      "querying 7001-8000...done.\n",
      "querying 8001-9000...done.\n",
      "querying 9001-10000...done.\n",
      "querying 10001-10662...done.\n",
      "Finished.\n",
      "29 input query terms found no hit:\n",
      "\t[u'378465', u'9503', u'6775098', u'90462', u'100271840', u'244', u'221016', u'102723367', u'439935',\n",
      "Pass \"returnall=True\" to return complete lists of duplicate or missing query terms.\n"
     ]
    }
   ],
   "source": [
    "import mygene\n",
    "import itertools\n",
    "mg = mygene.MyGeneInfo()\n",
    "mygene_hits1 = mg.querymany([i for i in set(itertools.chain(genes, G1.nodes()))],\n",
    "                           scopes=\"entrezgene\", fields=\"symbol,alias\")\n",
    "from collections import defaultdict\n",
    "symbols1 = defaultdict(list)\n",
    "symbol_to_ez1 = {}\n",
    "for h in mygene_hits1:\n",
    "    ez = h['query']\n",
    "    if h.get('notfound', False):\n",
    "        symbols1[ ez ].append(ez)\n",
    "        continue\n",
    "    symbols1[ ez ].append(h.get('symbol', ez).upper())\n",
    "    for a in h.get('alias', []):\n",
    "        symbols1[ ez ].append(a.upper())\n",
    "    for s in symbols1[ ez]:\n",
    "        symbol_to_ez1[s] = ez"
   ]
  },
  {
   "cell_type": "code",
   "execution_count": 12,
   "metadata": {
    "collapsed": true
   },
   "outputs": [],
   "source": [
    "def ppr(g, beta, nodelist=None):\n",
    "    W = nx.to_numpy_matrix(g, nodelist=nodelist, dtype=np.float64 )\n",
    "    W = np.asarray(W)\n",
    "    W = W / W.sum(axis=1) # normalization step\n",
    "    from scipy.linalg import inv\n",
    "    n = len(g.nodes())\n",
    "    PPR = beta*inv(sp.eye(n)-(1.-beta)*W)\n",
    "    return PPR"
   ]
  },
  {
   "cell_type": "code",
   "execution_count": 13,
   "metadata": {
    "collapsed": true
   },
   "outputs": [],
   "source": [
    "beta = 0.4\n",
    "G1_index2ezgene = dict((i,n) for i,n in enumerate(G1.nodes()))\n",
    "G1_ezgene2index = dict((n,i) for i,n in G1_index2ezgene.items())\n",
    "G1_gene_names = [symbols1[ez][0] for ez in G1.nodes()]\n",
    "G1_index2gene = dict((i,symbols1[ez][0]) for i,ez in G1_index2ezgene.items())\n",
    "G1_gene2index = dict((n,i) for i,n in G1_index2gene.items())\n",
    "M1 = ppr(G1, beta)"
   ]
  },
  {
   "cell_type": "code",
   "execution_count": 15,
   "metadata": {
    "collapsed": true
   },
   "outputs": [],
   "source": [
    "def get_seeds_with_neighbors1(dataset):\n",
    "    return {g: dict((G1_index2ezgene[i], n)\n",
    "                                 for i, n in enumerate(M1[:,G1_ezgene2index[g]].tolist())\n",
    "                                if G1_index2ezgene[i] in dataset.columns\n",
    "                               )\n",
    "                            for g in genes if g in dataset.columns and g in G1_ezgene2index}"
   ]
  },
  {
   "cell_type": "code",
   "execution_count": 250,
   "metadata": {
    "collapsed": true
   },
   "outputs": [],
   "source": [
    "gse45965 = pd.read_csv(\"gse45965_centered.csv\", index_col=\"sample\")"
   ]
  },
  {
   "cell_type": "code",
   "execution_count": 251,
   "metadata": {
    "collapsed": true
   },
   "outputs": [],
   "source": [
    "gse45965_ctc_vs_bc = gse45965[(gse45965.group == 'CTC') | (gse45965.group == 'tissue: breast cancer tumor')]\n",
    "gse45965_ctc_vs_pb = gse45965[(gse45965.group == 'CTC') | (gse45965.group == 'tissue: normal peripheral blood')]\n",
    "gse45965_pb_vs_bc = gse45965[(gse45965.group == 'tissue: breast cancer tumor') | (gse45965.group == 'tissue: normal peripheral blood')]\n",
    "gse45965_ctc_vs_bc_group = np.where(gse45965_ctc_vs_bc.group == 'CTC', 1, 0)\n",
    "gse45965_ctc_vs_pb_group = np.where(gse45965_ctc_vs_pb.group == 'CTC', 1, 0)\n",
    "gse45965_pb_vs_bc_group = np.where(gse45965_pb_vs_bc.group == 'tissue: breast cancer tumor', 1, 0)"
   ]
  },
  {
   "cell_type": "markdown",
   "metadata": {},
   "source": [
    "#### CTC versus Breast Cancer"
   ]
  },
  {
   "cell_type": "code",
   "execution_count": 252,
   "metadata": {
    "collapsed": false
   },
   "outputs": [
    {
     "name": "stdout",
     "output_type": "stream",
     "text": [
      "* 1 / 10\n",
      "* 2 / 10\n",
      "* 3 / 10\n",
      "* 4 / 10\n",
      "* 5 / 10\n",
      "* 6 / 10\n",
      "* 7 / 10\n",
      "* 8 / 10\n",
      "* 9 / 10\n",
      "* 10 / 10\n"
     ]
    }
   ],
   "source": [
    "%run subnet_stacking.py\n",
    "from sklearn.pipeline import Pipeline\n",
    "g27_clf = Pipeline([('subset_g27', GeneSubsetTransformer(features=[g for g in genes if g in gse45965.columns])),\n",
    "                   ('logreg', linear_model.LogisticRegression())])\n",
    "clfs = [linear_model.LogisticRegression(), g27_clf, \n",
    "        SubnetStackingClassifier(seeds_with_neighbors=get_seeds_with_neighbors1(gse45965_ctc_vs_pb.drop(\"group\",1)))]\n",
    "scores_ctc_vs_pb, fitted_clfs_ctc_vs_pb = score_clfs_in_df(clfs, gse45965_ctc_vs_pb.drop(\"group\",1), \n",
    "                                                         gse45965_ctc_vs_pb_group,\n",
    "                                                         n_iter = 10)"
   ]
  },
  {
   "cell_type": "code",
   "execution_count": 253,
   "metadata": {
    "collapsed": false
   },
   "outputs": [
    {
     "data": {
      "text/plain": [
       "array([ 0.95 ,  0.925,  0.925])"
      ]
     },
     "execution_count": 253,
     "metadata": {},
     "output_type": "execute_result"
    }
   ],
   "source": [
    "np.mean(np.stack(s[\"roc_auc\"] for s in scores_ctc_vs_pb), axis=0)"
   ]
  },
  {
   "cell_type": "markdown",
   "metadata": {},
   "source": [
    "#### CTC versus peripheral blood"
   ]
  },
  {
   "cell_type": "code",
   "execution_count": 254,
   "metadata": {
    "collapsed": false
   },
   "outputs": [
    {
     "name": "stdout",
     "output_type": "stream",
     "text": [
      "* 1 / 100\n",
      "* 2 / 100\n",
      "* 3 / 100\n",
      "* 4 / 100\n",
      "* 5 / 100\n",
      "* 6 / 100\n",
      "* 7 / 100\n",
      "* 8 / 100\n",
      "* 9 / 100\n",
      "* 10 / 100\n",
      "* 11 / 100\n",
      "* 12 / 100\n",
      "* 13 / 100\n",
      "* 14 / 100\n",
      "* 15 / 100\n",
      "* 16 / 100\n",
      "* 17 / 100\n",
      "* 18 / 100\n",
      "* 19 / 100\n",
      "* 20 / 100\n",
      "* 21 / 100\n",
      "* 22 / 100\n",
      "* 23 / 100\n",
      "* 24 / 100\n",
      "* 25 / 100\n",
      "* 26 / 100\n",
      "* 27 / 100\n",
      "* 28 / 100\n",
      "* 29 / 100\n",
      "* 30 / 100\n",
      "* 31 / 100\n",
      "* 32 / 100\n",
      "* 33 / 100\n",
      "* 34 / 100\n",
      "* 35 / 100\n",
      "* 36 / 100\n",
      "* 37 / 100\n",
      "* 38 / 100\n",
      "* 39 / 100\n",
      "* 40 / 100\n",
      "* 41 / 100\n",
      "* 42 / 100\n",
      "* 43 / 100\n",
      "* 44 / 100\n",
      "* 45 / 100\n",
      "* 46 / 100\n",
      "* 47 / 100\n",
      "* 48 / 100\n",
      "* 49 / 100\n",
      "* 50 / 100\n",
      "* 51 / 100\n",
      "* 52 / 100\n",
      "* 53 / 100\n",
      "* 54 / 100\n",
      "* 55 / 100\n",
      "* 56 / 100\n",
      "* 57 / 100\n",
      "* 58 / 100\n",
      "* 59 / 100\n",
      "* 60 / 100\n",
      "* 61 / 100\n",
      "* 62 / 100\n",
      "* 63 / 100\n",
      "* 64 / 100\n",
      "* 65 / 100\n",
      "* 66 / 100\n",
      "* 67 / 100\n",
      "* 68 / 100\n",
      "* 69 / 100\n",
      "* 70 / 100\n",
      "* 71 / 100\n",
      "* 72 / 100\n",
      "* 73 / 100\n",
      "* 74 / 100\n",
      "* 75 / 100\n",
      "* 76 / 100\n",
      "* 77 / 100\n",
      "* 78 / 100\n",
      "* 79 / 100\n",
      "* 80 / 100\n",
      "* 81 / 100\n",
      "* 82 / 100\n",
      "* 83 / 100\n",
      "* 84 / 100\n",
      "* 85 / 100\n",
      "* 86 / 100\n",
      "* 87 / 100\n",
      "* 88 / 100\n",
      "* 89 / 100\n",
      "* 90 / 100\n",
      "* 91 / 100\n",
      "* 92 / 100\n",
      "* 93 / 100\n",
      "* 94 / 100\n",
      "* 95 / 100\n",
      "* 96 / 100\n",
      "* 97 / 100\n",
      "* 98 / 100\n",
      "* 99 / 100\n",
      "* 100 / 100\n"
     ]
    }
   ],
   "source": [
    "scores_ctc_vs_pb, fitted_clfs_ctc_vs_pb = score_clfs_in_df(clfs,\n",
    "                                                         gse45965_ctc_vs_pb.drop(\"group\",1), \n",
    "                                                        gse45965_ctc_vs_pb_group,\n",
    "                                                        n_iter = 100, verbose=True)"
   ]
  },
  {
   "cell_type": "code",
   "execution_count": 255,
   "metadata": {
    "collapsed": false
   },
   "outputs": [
    {
     "data": {
      "text/html": [
       "<div>\n",
       "<table border=\"1\" class=\"dataframe\">\n",
       "  <thead>\n",
       "    <tr style=\"text-align: right;\">\n",
       "      <th></th>\n",
       "      <th>Classifier</th>\n",
       "      <th>ROC AUC</th>\n",
       "    </tr>\n",
       "  </thead>\n",
       "  <tbody>\n",
       "    <tr>\n",
       "      <th>0</th>\n",
       "      <td>LogisticRegression</td>\n",
       "      <td>0.9700</td>\n",
       "    </tr>\n",
       "    <tr>\n",
       "      <th>1</th>\n",
       "      <td>Pipeline</td>\n",
       "      <td>0.9625</td>\n",
       "    </tr>\n",
       "    <tr>\n",
       "      <th>2</th>\n",
       "      <td>SubnetStackingClassifier</td>\n",
       "      <td>0.9375</td>\n",
       "    </tr>\n",
       "  </tbody>\n",
       "</table>\n",
       "</div>"
      ],
      "text/plain": [
       "                 Classifier  ROC AUC\n",
       "0        LogisticRegression   0.9700\n",
       "1                  Pipeline   0.9625\n",
       "2  SubnetStackingClassifier   0.9375"
      ]
     },
     "execution_count": 255,
     "metadata": {},
     "output_type": "execute_result"
    }
   ],
   "source": [
    "pd.DataFrame({\"Classifier\": [str_clf(c) for c in clfs],\n",
    "              \"ROC AUC\": np.mean(np.stack(s[\"roc_auc\"] for s in scores_ctc_vs_pb), axis=0)})"
   ]
  },
  {
   "cell_type": "markdown",
   "metadata": {},
   "source": [
    "#### Peripheral Blood versus Breast Cancer"
   ]
  },
  {
   "cell_type": "code",
   "execution_count": 256,
   "metadata": {
    "collapsed": false
   },
   "outputs": [
    {
     "name": "stdout",
     "output_type": "stream",
     "text": [
      "* 1 / 100\n",
      "* 2 / 100\n",
      "* 3 / 100\n",
      "* 4 / 100\n",
      "* 5 / 100\n",
      "* 6 / 100\n",
      "* 7 / 100\n",
      "* 8 / 100\n",
      "* 9 / 100\n",
      "* 10 / 100\n",
      "* 11 / 100\n",
      "* 12 / 100\n",
      "* 13 / 100\n",
      "* 14 / 100\n",
      "* 15 / 100\n",
      "* 16 / 100\n",
      "* 17 / 100\n",
      "* 18 / 100\n",
      "* 19 / 100\n",
      "* 20 / 100\n",
      "* 21 / 100\n",
      "* 22 / 100\n",
      "* 23 / 100\n",
      "* 24 / 100\n",
      "* 25 / 100\n",
      "* 26 / 100\n",
      "* 27 / 100\n",
      "* 28 / 100\n",
      "* 29 / 100\n",
      "* 30 / 100\n",
      "* 31 / 100\n",
      "* 32 / 100\n",
      "* 33 / 100\n",
      "* 34 / 100\n",
      "* 35 / 100\n",
      "* 36 / 100\n",
      "* 37 / 100\n",
      "* 38 / 100\n",
      "* 39 / 100\n",
      "* 40 / 100\n",
      "* 41 / 100\n",
      "* 42 / 100\n",
      "* 43 / 100\n",
      "* 44 / 100\n",
      "* 45 / 100\n",
      "* 46 / 100\n",
      "* 47 / 100\n",
      "* 48 / 100\n",
      "* 49 / 100\n",
      "* 50 / 100\n",
      "* 51 / 100\n",
      "* 52 / 100\n",
      "* 53 / 100\n",
      "* 54 / 100\n",
      "* 55 / 100\n",
      "* 56 / 100\n",
      "* 57 / 100\n",
      "* 58 / 100\n",
      "* 59 / 100\n",
      "* 60 / 100\n",
      "* 61 / 100\n",
      "* 62 / 100\n",
      "* 63 / 100\n",
      "* 64 / 100\n",
      "* 65 / 100\n",
      "* 66 / 100\n",
      "* 67 / 100\n",
      "* 68 / 100\n",
      "* 69 / 100\n",
      "* 70 / 100\n",
      "* 71 / 100\n",
      "* 72 / 100\n",
      "* 73 / 100\n",
      "* 74 / 100\n",
      "* 75 / 100\n",
      "* 76 / 100\n",
      "* 77 / 100\n",
      "* 78 / 100\n",
      "* 79 / 100\n",
      "* 80 / 100\n",
      "* 81 / 100\n",
      "* 82 / 100\n",
      "* 83 / 100\n",
      "* 84 / 100\n",
      "* 85 / 100\n",
      "* 86 / 100\n",
      "* 87 / 100\n",
      "* 88 / 100\n",
      "* 89 / 100\n",
      "* 90 / 100\n",
      "* 91 / 100\n",
      "* 92 / 100\n",
      "* 93 / 100\n",
      "* 94 / 100\n",
      "* 95 / 100\n",
      "* 96 / 100\n",
      "* 97 / 100\n",
      "* 98 / 100\n",
      "* 99 / 100\n",
      "* 100 / 100\n"
     ]
    }
   ],
   "source": [
    "scores_pb_vs_bc, fitted_clfs_pb_vs_bc = score_clfs_in_df(clfs,\n",
    "                                                         gse45965_pb_vs_bc.drop(\"group\",1), \n",
    "                                                        gse45965_pb_vs_bc_group,\n",
    "                                                        n_iter = 100, verbose=True)"
   ]
  },
  {
   "cell_type": "code",
   "execution_count": 257,
   "metadata": {
    "collapsed": false
   },
   "outputs": [
    {
     "data": {
      "text/html": [
       "<div>\n",
       "<table border=\"1\" class=\"dataframe\">\n",
       "  <thead>\n",
       "    <tr style=\"text-align: right;\">\n",
       "      <th></th>\n",
       "      <th>Classifier</th>\n",
       "      <th>ROC AUC</th>\n",
       "    </tr>\n",
       "  </thead>\n",
       "  <tbody>\n",
       "    <tr>\n",
       "      <th>0</th>\n",
       "      <td>LogisticRegression</td>\n",
       "      <td>0.701250</td>\n",
       "    </tr>\n",
       "    <tr>\n",
       "      <th>1</th>\n",
       "      <td>Pipeline</td>\n",
       "      <td>0.949375</td>\n",
       "    </tr>\n",
       "    <tr>\n",
       "      <th>2</th>\n",
       "      <td>SubnetStackingClassifier</td>\n",
       "      <td>0.873750</td>\n",
       "    </tr>\n",
       "  </tbody>\n",
       "</table>\n",
       "</div>"
      ],
      "text/plain": [
       "                 Classifier   ROC AUC\n",
       "0        LogisticRegression  0.701250\n",
       "1                  Pipeline  0.949375\n",
       "2  SubnetStackingClassifier  0.873750"
      ]
     },
     "execution_count": 257,
     "metadata": {},
     "output_type": "execute_result"
    }
   ],
   "source": [
    "pd.DataFrame({\"Classifier\": [str_clf(c) for c in clfs],\n",
    "              \"ROC AUC\": np.mean(np.stack(s[\"roc_auc\"] for s in scores_pb_vs_bc), axis=0)})"
   ]
  },
  {
   "cell_type": "code",
   "execution_count": 258,
   "metadata": {
    "collapsed": false
   },
   "outputs": [
    {
     "data": {
      "text/plain": [
       "array([ 0.0618,  0.0981,  0.1452])"
      ]
     },
     "execution_count": 258,
     "metadata": {},
     "output_type": "execute_result"
    }
   ],
   "source": [
    "np.std(np.stack(s[\"roc_auc\"] for s in scores_pb_vs_bc), axis=0)"
   ]
  },
  {
   "cell_type": "code",
   "execution_count": 259,
   "metadata": {
    "collapsed": false
   },
   "outputs": [
    {
     "name": "stdout",
     "output_type": "stream",
     "text": [
      "* 1 / 100\n",
      "* 2 / 100\n",
      "* 3 / 100\n",
      "* 4 / 100\n",
      "* 5 / 100\n",
      "* 6 / 100\n",
      "* 7 / 100\n",
      "* 8 / 100\n",
      "* 9 / 100\n",
      "* 10 / 100\n",
      "* 11 / 100\n",
      "* 12 / 100\n",
      "* 13 / 100\n",
      "* 14 / 100\n",
      "* 15 / 100\n",
      "* 16 / 100\n",
      "* 17 / 100\n",
      "* 18 / 100\n",
      "* 19 / 100\n",
      "* 20 / 100\n",
      "* 21 / 100\n",
      "* 22 / 100\n",
      "* 23 / 100\n",
      "* 24 / 100\n",
      "* 25 / 100\n",
      "* 26 / 100\n",
      "* 27 / 100\n",
      "* 28 / 100\n",
      "* 29 / 100\n",
      "* 30 / 100\n",
      "* 31 / 100\n",
      "* 32 / 100\n",
      "* 33 / 100\n",
      "* 34 / 100\n",
      "* 35 / 100\n",
      "* 36 / 100\n",
      "* 37 / 100\n",
      "* 38 / 100\n",
      "* 39 / 100\n",
      "* 40 / 100\n",
      "* 41 / 100\n",
      "* 42 / 100\n",
      "* 43 / 100\n",
      "* 44 / 100\n",
      "* 45 / 100\n",
      "* 46 / 100\n",
      "* 47 / 100\n",
      "* 48 / 100\n",
      "* 49 / 100\n",
      "* 50 / 100\n",
      "* 51 / 100\n",
      "* 52 / 100\n",
      "* 53 / 100\n",
      "* 54 / 100\n",
      "* 55 / 100\n",
      "* 56 / 100\n",
      "* 57 / 100\n",
      "* 58 / 100\n",
      "* 59 / 100\n",
      "* 60 / 100\n",
      "* 61 / 100\n",
      "* 62 / 100\n",
      "* 63 / 100\n",
      "* 64 / 100\n",
      "* 65 / 100\n",
      "* 66 / 100\n",
      "* 67 / 100\n",
      "* 68 / 100\n",
      "* 69 / 100\n",
      "* 70 / 100\n",
      "* 71 / 100\n",
      "* 72 / 100\n",
      "* 73 / 100\n",
      "* 74 / 100\n",
      "* 75 / 100\n",
      "* 76 / 100\n",
      "* 77 / 100\n",
      "* 78 / 100\n",
      "* 79 / 100\n",
      "* 80 / 100\n",
      "* 81 / 100\n",
      "* 82 / 100\n",
      "* 83 / 100\n",
      "* 84 / 100\n",
      "* 85 / 100\n",
      "* 86 / 100\n",
      "* 87 / 100\n",
      "* 88 / 100\n",
      "* 89 / 100\n",
      "* 90 / 100\n",
      "* 91 / 100\n",
      "* 92 / 100\n",
      "* 93 / 100\n",
      "* 94 / 100\n",
      "* 95 / 100\n",
      "* 96 / 100\n",
      "* 97 / 100\n",
      "* 98 / 100\n",
      "* 99 / 100\n",
      "* 100 / 100\n"
     ]
    }
   ],
   "source": [
    "from sklearn import svm\n",
    "from sklearn import linear_model\n",
    "from sklearn import tree\n",
    "from sklearn import neighbors\n",
    "from sklearn.neighbors.nearest_centroid import NearestCentroid\n",
    "from sklearn.ensemble import RandomForestClassifier\n",
    "\n",
    "scores_1, _ = score_clfs_in_df([linear_model.LogisticRegression(), neighbors.KNeighborsClassifier(n_neighbors=5), \n",
    "                               RandomForestClassifier(), svm.SVC(kernel=\"rbf\", C=1), svm.SVC(kernel=\"linear\", C=1)],\n",
    "                                                         gse45965_ctc_vs_pb.drop(\"group\",1), \n",
    "                                                        gse45965_ctc_vs_pb_group,\n",
    "                                                        n_iter = 100)"
   ]
  },
  {
   "cell_type": "code",
   "execution_count": 260,
   "metadata": {
    "collapsed": false
   },
   "outputs": [
    {
     "data": {
      "text/html": [
       "<div>\n",
       "<table border=\"1\" class=\"dataframe\">\n",
       "  <thead>\n",
       "    <tr style=\"text-align: right;\">\n",
       "      <th></th>\n",
       "      <th>Classifier</th>\n",
       "      <th>ROC AUC</th>\n",
       "    </tr>\n",
       "  </thead>\n",
       "  <tbody>\n",
       "    <tr>\n",
       "      <th>0</th>\n",
       "      <td>LogisticRegression</td>\n",
       "      <td>0.9700</td>\n",
       "    </tr>\n",
       "    <tr>\n",
       "      <th>1</th>\n",
       "      <td>KNeighborsClassifier</td>\n",
       "      <td>0.8975</td>\n",
       "    </tr>\n",
       "    <tr>\n",
       "      <th>2</th>\n",
       "      <td>RandomForestClassifier</td>\n",
       "      <td>0.8475</td>\n",
       "    </tr>\n",
       "    <tr>\n",
       "      <th>3</th>\n",
       "      <td>SVC</td>\n",
       "      <td>0.9350</td>\n",
       "    </tr>\n",
       "    <tr>\n",
       "      <th>4</th>\n",
       "      <td>SVC</td>\n",
       "      <td>0.9900</td>\n",
       "    </tr>\n",
       "  </tbody>\n",
       "</table>\n",
       "</div>"
      ],
      "text/plain": [
       "               Classifier  ROC AUC\n",
       "0      LogisticRegression   0.9700\n",
       "1    KNeighborsClassifier   0.8975\n",
       "2  RandomForestClassifier   0.8475\n",
       "3                     SVC   0.9350\n",
       "4                     SVC   0.9900"
      ]
     },
     "execution_count": 260,
     "metadata": {},
     "output_type": "execute_result"
    }
   ],
   "source": [
    "pd.DataFrame({\"Classifier\": [str_clf(c) for c in more_clfs], \n",
    "              \"ROC AUC\": np.mean(np.stack(s[\"roc_auc\"] for s in scores_1), axis=0)})"
   ]
  },
  {
   "cell_type": "code",
   "execution_count": 261,
   "metadata": {
    "collapsed": true
   },
   "outputs": [],
   "source": [
    "more_clfs = [linear_model.LogisticRegression(), \n",
    "                                neighbors.KNeighborsClassifier(n_neighbors=5), \n",
    "                                RandomForestClassifier(), \n",
    "                                svm.SVC(kernel=\"rbf\", C=1), \n",
    "                                svm.SVC(kernel=\"linear\", C=1)]\n",
    "scores_2, _ = score_clfs_in_df(more_clfs,\n",
    "                               gse45965_pb_vs_bc.drop(\"group\",1), \n",
    "                                                        gse45965_pb_vs_bc_group,\n",
    "                                                        n_iter = 100, verbose=False)"
   ]
  },
  {
   "cell_type": "code",
   "execution_count": 262,
   "metadata": {
    "collapsed": false
   },
   "outputs": [
    {
     "data": {
      "text/html": [
       "<div>\n",
       "<table border=\"1\" class=\"dataframe\">\n",
       "  <thead>\n",
       "    <tr style=\"text-align: right;\">\n",
       "      <th></th>\n",
       "      <th>Classifier</th>\n",
       "      <th>ROC AUC</th>\n",
       "    </tr>\n",
       "  </thead>\n",
       "  <tbody>\n",
       "    <tr>\n",
       "      <th>0</th>\n",
       "      <td>LogisticRegression</td>\n",
       "      <td>0.701250</td>\n",
       "    </tr>\n",
       "    <tr>\n",
       "      <th>1</th>\n",
       "      <td>KNeighborsClassifier</td>\n",
       "      <td>0.859062</td>\n",
       "    </tr>\n",
       "    <tr>\n",
       "      <th>2</th>\n",
       "      <td>RandomForestClassifier</td>\n",
       "      <td>0.841875</td>\n",
       "    </tr>\n",
       "    <tr>\n",
       "      <th>3</th>\n",
       "      <td>SVC</td>\n",
       "      <td>0.822500</td>\n",
       "    </tr>\n",
       "    <tr>\n",
       "      <th>4</th>\n",
       "      <td>SVC</td>\n",
       "      <td>0.953438</td>\n",
       "    </tr>\n",
       "  </tbody>\n",
       "</table>\n",
       "</div>"
      ],
      "text/plain": [
       "               Classifier   ROC AUC\n",
       "0      LogisticRegression  0.701250\n",
       "1    KNeighborsClassifier  0.859062\n",
       "2  RandomForestClassifier  0.841875\n",
       "3                     SVC  0.822500\n",
       "4                     SVC  0.953438"
      ]
     },
     "execution_count": 262,
     "metadata": {},
     "output_type": "execute_result"
    }
   ],
   "source": [
    "pd.DataFrame({\"Classifier\": [str_clf(c) for c in more_clfs], \n",
    "              \"ROC AUC\": np.mean(np.stack(s[\"roc_auc\"] for s in scores_2), axis=0)})"
   ]
  },
  {
   "cell_type": "code",
   "execution_count": 263,
   "metadata": {
    "collapsed": false
   },
   "outputs": [],
   "source": [
    "all_clfs = [linear_model.LogisticRegression(), \n",
    "                                neighbors.KNeighborsClassifier(n_neighbors=5), \n",
    "                                RandomForestClassifier(), \n",
    "                                svm.SVC(kernel=\"rbf\", C=1), \n",
    "                                svm.SVC(kernel=\"linear\", C=1),\n",
    "             g27_clf, \n",
    "            SubnetStackingClassifier(seeds_with_neighbors=get_seeds_with_neighbors1(gse45965_ctc_vs_pb.drop(\"group\",1)))\n",
    "            ]"
   ]
  },
  {
   "cell_type": "code",
   "execution_count": null,
   "metadata": {
    "collapsed": true
   },
   "outputs": [],
   "source": [
    "import sklearn.cross_validation\n",
    "random_state = np.random.RandomState(0xBABE)\n",
    "cvs = [cross_validation.StratifiedKFold(gse45965_pb_vs_bc_group, n_folds=3, random_state=random_state)\n",
    "       for _ in range(500)]"
   ]
  },
  {
   "cell_type": "code",
   "execution_count": null,
   "metadata": {
    "collapsed": false
   },
   "outputs": [],
   "source": [
    "pps = []\n",
    "for cv in cvs:\n",
    "    p = [(c, sklearn.cross_validation.cross_val_score(c,\n",
    "                                         gse45965_pb_vs_bc.drop(\"group\", 1),\n",
    "                                         gse45965_pb_vs_bc_group, cv=cv, scoring=\"roc_auc\"))\n",
    "         for c in all_clfs]\n",
    "    pps.append( p)"
   ]
  },
  {
   "cell_type": "code",
   "execution_count": null,
   "metadata": {
    "collapsed": false
   },
   "outputs": [],
   "source": [
    "\n",
    "pd.DataFrame({\"AUC\": [v*1.0/len(pps) for c,v in st.iteritems()]}, index=[str_clf(c) for c in st.keys()])"
   ]
  },
  {
   "cell_type": "markdown",
   "metadata": {},
   "source": [
    "## Repeated CV\n",
    "We are going to test the Subnet Stackign classisifier with repeated cross validation (See: Ji-Hyun Kim, \"Estimating classification error rate: Repeated cross-validation, repeated hold-out and bootstrap, Computational Statistics & Data Analysis, Vol 53(11), http://dx.doi.org/10.1016/j.csda.2009.04.009))\n"
   ]
  },
  {
   "cell_type": "code",
   "execution_count": 279,
   "metadata": {
    "collapsed": true
   },
   "outputs": [],
   "source": [
    "all_clfs = {\"Logistic Regression\": linear_model.LogisticRegression(), \n",
    "            \"K-nearest Neighbors(k=5)\": neighbors.KNeighborsClassifier(n_neighbors=5), \n",
    "            \"Random Forrest\": RandomForestClassifier(), \n",
    "            \"SVM-RBF\": svm.SVC(kernel=\"rbf\", C=1), \n",
    "             \"SVM-Linear\": svm.SVC(kernel=\"linear\", C=1),\n",
    "             \"Log. regression (G27)\": g27_clf, \n",
    "            \"Subnet Stacking\": SubnetStackingClassifier(seeds_with_neighbors=get_seeds_with_neighbors1(gse45965.drop(\"group\",1)))\n",
    "            }\n",
    "n_iter = 100\n",
    "n_jobs = 20"
   ]
  },
  {
   "cell_type": "markdown",
   "metadata": {},
   "source": [
    "We are going to use 100 iterations in parallel (20 processes) of 3-fold cross validation, which means 300 training and testing sets..\n",
    "\n",
    "#### CTC versus Peripheral Blood"
   ]
  },
  {
   "cell_type": "code",
   "execution_count": 280,
   "metadata": {
    "collapsed": true
   },
   "outputs": [],
   "source": [
    "from sklearn import cross_validation\n",
    "random_state = np.random.RandomState(0xCAFE)\n",
    "cvs_ctc_vs_pb = [cross_validation.StratifiedKFold(gse45965_ctc_vs_pb_group, n_folds=3, \n",
    "                                                  shuffle=True, random_state=random_state)\n",
    "                 for _ in range(n_iter)]"
   ]
  },
  {
   "cell_type": "markdown",
   "metadata": {},
   "source": [
    "How many distinct testing sets we have?"
   ]
  },
  {
   "cell_type": "code",
   "execution_count": 281,
   "metadata": {
    "collapsed": false
   },
   "outputs": [
    {
     "name": "stdout",
     "output_type": "stream",
     "text": [
      "232\n"
     ]
    }
   ],
   "source": [
    "from collections import defaultdict\n",
    "st=defaultdict(int)\n",
    "def str_set(s): return \":\".join(str(k) for k in s)\n",
    "for cv in cvs_ctc_vs_pb:\n",
    "    for train,test in cv:\n",
    "        st[ str_set(set(test)) ] += 1\n",
    "print len(st.keys())\n"
   ]
  },
  {
   "cell_type": "code",
   "execution_count": 282,
   "metadata": {
    "collapsed": false
   },
   "outputs": [],
   "source": [
    "def parallel_cv(cv, all_clfs, X, y):\n",
    "    import sklearn.cross_validation\n",
    "    p = {n : sklearn.cross_validation.cross_val_score(c, X,y, cv=cv, scoring=\"roc_auc\")\n",
    "         for n, c in all_clfs.items()}\n",
    "    return p"
   ]
  },
  {
   "cell_type": "markdown",
   "metadata": {},
   "source": [
    "Start the Cross Validations.. This takes a lot of time!!"
   ]
  },
  {
   "cell_type": "code",
   "execution_count": 283,
   "metadata": {
    "collapsed": false
   },
   "outputs": [],
   "source": [
    "from joblib import Parallel, delayed\n",
    "scores_ctc_vs_pb = Parallel(n_jobs=n_jobs)(delayed(parallel_cv)(cv, all_clfs, \n",
    "                                                gse45965_ctc_vs_pb.drop(\"group\",1), \n",
    "                                                gse45965_ctc_vs_pb_group)\n",
    "                           for cv in cvs_ctc_vs_pb)"
   ]
  },
  {
   "cell_type": "code",
   "execution_count": 284,
   "metadata": {
    "collapsed": false
   },
   "outputs": [
    {
     "data": {
      "text/html": [
       "<div>\n",
       "<table border=\"1\" class=\"dataframe\">\n",
       "  <thead>\n",
       "    <tr style=\"text-align: right;\">\n",
       "      <th></th>\n",
       "      <th>AUC</th>\n",
       "      <th>std. dev</th>\n",
       "    </tr>\n",
       "  </thead>\n",
       "  <tbody>\n",
       "    <tr>\n",
       "      <th>SVM-Linear</th>\n",
       "      <td>1.000000</td>\n",
       "      <td>0</td>\n",
       "    </tr>\n",
       "    <tr>\n",
       "      <th>Logistic Regression</th>\n",
       "      <td>1.000000</td>\n",
       "      <td>0</td>\n",
       "    </tr>\n",
       "    <tr>\n",
       "      <th>Log. regression (G27)</th>\n",
       "      <td>1.000000</td>\n",
       "      <td>0</td>\n",
       "    </tr>\n",
       "    <tr>\n",
       "      <th>Random Forrest</th>\n",
       "      <td>0.961944</td>\n",
       "      <td>0</td>\n",
       "    </tr>\n",
       "    <tr>\n",
       "      <th>SVM-RBF</th>\n",
       "      <td>1.000000</td>\n",
       "      <td>0</td>\n",
       "    </tr>\n",
       "    <tr>\n",
       "      <th>Subnet Stacking</th>\n",
       "      <td>1.000000</td>\n",
       "      <td>0</td>\n",
       "    </tr>\n",
       "    <tr>\n",
       "      <th>K-nearest Neighbors(k=5)</th>\n",
       "      <td>0.985278</td>\n",
       "      <td>0</td>\n",
       "    </tr>\n",
       "  </tbody>\n",
       "</table>\n",
       "</div>"
      ],
      "text/plain": [
       "                               AUC  std. dev\n",
       "SVM-Linear                1.000000         0\n",
       "Logistic Regression       1.000000         0\n",
       "Log. regression (G27)     1.000000         0\n",
       "Random Forrest            0.961944         0\n",
       "SVM-RBF                   1.000000         0\n",
       "Subnet Stacking           1.000000         0\n",
       "K-nearest Neighbors(k=5)  0.985278         0"
      ]
     },
     "execution_count": 284,
     "metadata": {},
     "output_type": "execute_result"
    }
   ],
   "source": [
    "from collections import defaultdict\n",
    "st=defaultdict(int)\n",
    "for pp in scores_ctc_vs_pb:\n",
    "    for n, s in pp.items():\n",
    "        st[n] += np.mean(s)\n",
    "pd.DataFrame({\"AUC\": [v*1.0/n_iter for c,v in st.iteritems()],\n",
    "              \"std. dev\": [np.std(v) for c,v in st.iteritems()]},\n",
    "             index=[c for c,v in st.iteritems()])\n"
   ]
  },
  {
   "cell_type": "code",
   "execution_count": 285,
   "metadata": {
    "collapsed": false
   },
   "outputs": [
    {
     "data": {
      "image/png": "[encoded data removed]",
      "text/plain": [
       "<matplotlib.figure.Figure at 0x7fd09bbb9a90>"
      ]
     },
     "metadata": {},
     "output_type": "display_data"
    }
   ],
   "source": [
    "st=[]\n",
    "for pp in scores_ctc_vs_pb:\n",
    "    for n, s in pp.items():\n",
    "        st.append( (n, np.mean(s)) )\n",
    "a = pd.DataFrame({'classifier': [v[0] for v in st], 'auc': [v[1] for v in st]})\n",
    "sb.set_style(\"darkgrid\")\n",
    "sb.barplot(y=\"classifier\", x=\"auc\", data=a, palette=\"muted\")\n",
    "plt.xticks(np.arange(0,1.12,0.1), rotation=90)\n",
    "plt.show()"
   ]
  },
  {
   "cell_type": "markdown",
   "metadata": {},
   "source": [
    "#### Peripheral Blood vs Breast Cancer"
   ]
  },
  {
   "cell_type": "code",
   "execution_count": 286,
   "metadata": {
    "collapsed": true
   },
   "outputs": [],
   "source": [
    "random_state = np.random.RandomState(0xCAFE)\n",
    "cvs_pb_vs_bc = [cross_validation.StratifiedKFold(gse45965_pb_vs_bc_group, n_folds=3, \n",
    "                                                  shuffle=True, random_state=random_state)\n",
    "                 for _ in range(n_iter)]"
   ]
  },
  {
   "cell_type": "markdown",
   "metadata": {},
   "source": [
    "How many distinct testing sets we have?"
   ]
  },
  {
   "cell_type": "code",
   "execution_count": null,
   "metadata": {
    "collapsed": false
   },
   "outputs": [
    {
     "name": "stdout",
     "output_type": "stream",
     "text": [
      "300\n"
     ]
    }
   ],
   "source": [
    "from collections import defaultdict\n",
    "st=defaultdict(int)\n",
    "def str_set(s): return \":\".join(str(k) for k in s)\n",
    "for cv in cvs_pb_vs_bc:\n",
    "    for train,test in cv:\n",
    "        st[ str_set(set(test)) ] += 1\n",
    "print len(st.keys())"
   ]
  },
  {
   "cell_type": "code",
   "execution_count": null,
   "metadata": {
    "collapsed": false
   },
   "outputs": [],
   "source": [
    "from joblib import Parallel, delayed\n",
    "scores_pb_vs_bc = Parallel(n_jobs=n_jobs, verbose=5)(delayed(parallel_cv)(cv, all_clfs, \n",
    "                                                gse45965_pb_vs_bc.drop(\"group\",1), \n",
    "                                                gse45965_pb_vs_bc_group)\n",
    "                           for cv in cvs_pb_vs_bc)\n"
   ]
  },
  {
   "cell_type": "code",
   "execution_count": null,
   "metadata": {
    "collapsed": false
   },
   "outputs": [],
   "source": [
    "from collections import defaultdict\n",
    "st=defaultdict(list)\n",
    "for pp in scores_pb_vs_bc:\n",
    "    for n, s in pp.items():\n",
    "        st[n].append(np.mean(s))\n",
    "pd.DataFrame({\"Avg. AUC\": [np.mean(v) for c,v in st.iteritems()],\n",
    "              \"std. dev\": [np.std(v) for c,v in st.iteritems()]}\n",
    "             , index=[c for c,v in st.iteritems()])\n"
   ]
  },
  {
   "cell_type": "code",
   "execution_count": null,
   "metadata": {
    "collapsed": false
   },
   "outputs": [],
   "source": [
    "st=[]\n",
    "for pp in scores_pb_vs_bc:\n",
    "    for n, s in pp.items():\n",
    "        st.append( (n, np.mean(s)) )\n",
    "a = pd.DataFrame({'classifier': [v[0] for v in st], 'auc': [v[1] for v in st]})\n",
    "sb.set_style(\"darkgrid\")\n",
    "sb.barplot(y=\"classifier\", x=\"auc\", data=a, palette=\"muted\")\n",
    "plt.xticks(np.arange(0,1.12,0.1), rotation=90)\n",
    "plt.show()"
   ]
  }
 ],
 "metadata": {
  "kernelspec": {
   "display_name": "Python 2",
   "language": "python",
   "name": "python2"
  },
  "language_info": {
   "codemirror_mode": {
    "name": "ipython",
    "version": 2
   },
   "file_extension": ".py",
   "mimetype": "text/x-python",
   "name": "python",
   "nbconvert_exporter": "python",
   "pygments_lexer": "ipython2",
   "version": "2.7.10"
  }
 },
 "nbformat": 4,
 "nbformat_minor": 0
}
